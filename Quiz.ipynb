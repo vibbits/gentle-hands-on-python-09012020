{
 "cells": [
  {
   "cell_type": "markdown",
   "metadata": {
    "slideshow": {
     "slide_type": "slide"
    }
   },
   "source": [
    "# Quiz!\n",
    "\n",
    "Let's recap the first day materials with a short quiz."
   ]
  },
  {
   "cell_type": "markdown",
   "metadata": {
    "slideshow": {
     "slide_type": "slide"
    }
   },
   "source": [
    "\n",
    "Which input statements are correct? \n",
    "- `a = input()`  \n",
    "- `b = input(\"Enter a number\")`  \n",
    "- `c = input(Enter your name)`  "
   ]
  },
  {
   "cell_type": "markdown",
   "metadata": {
    "slideshow": {
     "slide_type": "slide"
    }
   },
   "source": [
    "\n",
    "Which input statements are correct? \n",
    "- **`a = input()`**  \n",
    "- **`b = input(\"Enter a number\")`**  \n",
    "- `c = input(Enter your name)`  "
   ]
  },
  {
   "cell_type": "code",
   "execution_count": 5,
   "metadata": {
    "slideshow": {
     "slide_type": "slide"
    }
   },
   "outputs": [
    {
     "name": "stdout",
     "output_type": "stream",
     "text": [
      "a\n",
      "Enter a number5\n"
     ]
    }
   ],
   "source": [
    "a = input()\n",
    "b = input(\"Enter a number\")"
   ]
  },
  {
   "cell_type": "markdown",
   "metadata": {
    "slideshow": {
     "slide_type": "slide"
    }
   },
   "source": [
    "Which print statements are correct? \n",
    "- `print(\"9\" + \"9\")`\n",
    "- `print(int(\"nine\"))`\n",
    "- `print(str(9)+\"nine\")`\n",
    "- `print(9+9)`"
   ]
  },
  {
   "cell_type": "markdown",
   "metadata": {
    "slideshow": {
     "slide_type": "slide"
    }
   },
   "source": [
    "Which print statements are correct? \n",
    "- **`print(\"9\" + \"9\")`**\n",
    "- `print(int(\"nine\"))`\n",
    "- **`print(str(9)+\"nine\")`**\n",
    "- **`print(9+9)`**"
   ]
  },
  {
   "cell_type": "code",
   "execution_count": 3,
   "metadata": {
    "slideshow": {
     "slide_type": "slide"
    }
   },
   "outputs": [
    {
     "name": "stdout",
     "output_type": "stream",
     "text": [
      "99\n",
      "9nine\n",
      "18\n"
     ]
    }
   ],
   "source": [
    "print(\"9\" + \"9\")\n",
    "print(str(9)+\"nine\")\n",
    "print(9+9)"
   ]
  },
  {
   "cell_type": "markdown",
   "metadata": {
    "slideshow": {
     "slide_type": "slide"
    }
   },
   "source": [
    "Which are correct arithmetical operations?  \n",
    "- `a = 1 * 2`  \n",
    "- `2 = 1 + 1`  \n",
    "- `5 + 6 = y`\n",
    "- `seven = 3 * 4`"
   ]
  },
  {
   "cell_type": "markdown",
   "metadata": {
    "slideshow": {
     "slide_type": "slide"
    }
   },
   "source": [
    "Which are correct arithmetical operations?  \n",
    "- **`a = 1 * 2`**  \n",
    "- `2 = 1 + 1`  \n",
    "- `5 + 6 = y`\n",
    "- **`seven = 3 * 4`**\n"
   ]
  },
  {
   "cell_type": "code",
   "execution_count": 7,
   "metadata": {
    "slideshow": {
     "slide_type": "slide"
    }
   },
   "outputs": [
    {
     "name": "stdout",
     "output_type": "stream",
     "text": [
      "2\n",
      "12\n"
     ]
    }
   ],
   "source": [
    "a = 1*2\n",
    "print(a)\n",
    "seven = 3 * 4\n",
    "print(seven)"
   ]
  },
  {
   "cell_type": "markdown",
   "metadata": {
    "slideshow": {
     "slide_type": "slide"
    }
   },
   "source": [
    "Which are correct variable names?\n",
    "- `result`\n",
    "- `my.result`\n",
    "- `print`\n",
    "- `result77`"
   ]
  },
  {
   "cell_type": "markdown",
   "metadata": {
    "slideshow": {
     "slide_type": "slide"
    }
   },
   "source": [
    "Which are correct variable names?\n",
    "- **`result`**\n",
    "- `my.result`\n",
    "- `print`\n",
    "- **`result77`**"
   ]
  },
  {
   "cell_type": "markdown",
   "metadata": {
    "slideshow": {
     "slide_type": "slide"
    }
   },
   "source": [
    "Which are correct type conversions?\n",
    "- `int(7.0+0.1)`\n",
    "- `str(1.2 * 3.4)`\n",
    "- `float(\"77\"+\"0.2\")`\n",
    "- `str(9/0)`"
   ]
  },
  {
   "cell_type": "markdown",
   "metadata": {
    "slideshow": {
     "slide_type": "slide"
    }
   },
   "source": [
    "Which are correct type conversions?\n",
    "- **`int(7.0+0.1)`**\n",
    "- **`str(1.2 * 3.4)`**\n",
    "- **`float(\"77\"+\"0.2\")`**\n",
    "- `str(9/0)`"
   ]
  },
  {
   "cell_type": "code",
   "execution_count": 12,
   "metadata": {
    "slideshow": {
     "slide_type": "slide"
    }
   },
   "outputs": [
    {
     "name": "stdout",
     "output_type": "stream",
     "text": [
      "7\n",
      "4.08\n",
      "770.2\n"
     ]
    }
   ],
   "source": [
    "a = int(7.0+0.1)\n",
    "print(a)\n",
    "b = str(1.2 * 3.4)\n",
    "print(b)\n",
    "c = float(\"77\"+\"0.2\")\n",
    "print(c)"
   ]
  },
  {
   "cell_type": "markdown",
   "metadata": {
    "slideshow": {
     "slide_type": "slide"
    }
   },
   "source": [
    "Which lines are commented? \n",
    "- `\"\"\"This is a comment\"\"\"`\n",
    "- `# This is a comment`\n",
    "- `// This is a comment`\n",
    "- `''' This is a comment'''`"
   ]
  },
  {
   "cell_type": "markdown",
   "metadata": {
    "slideshow": {
     "slide_type": "slide"
    }
   },
   "source": [
    "Which lines are commented? \n",
    "- `\"\"\"This is a comment\"\"\"`\n",
    "- **`# This is a comment`**\n",
    "- `// This is a comment`\n",
    "- `''' This is a comment'''`"
   ]
  },
  {
   "cell_type": "code",
   "execution_count": 13,
   "metadata": {
    "slideshow": {
     "slide_type": "slide"
    }
   },
   "outputs": [],
   "source": [
    "# This is a comment"
   ]
  },
  {
   "cell_type": "markdown",
   "metadata": {
    "slideshow": {
     "slide_type": "slide"
    }
   },
   "source": [
    "What are the correct data types of the following expressions and values\n",
    "- `1023`\n",
    "- `None`\n",
    "- `[2, 4, 8, 16]`\n",
    "- `True`\n",
    "- `17.54`\n",
    "- `('Roger', 1952)`\n",
    "- `\"my fat cat\"`\n",
    "- ```\n",
    "{'name':'Roger',\n",
    " 'birth':1952} ```"
   ]
  },
  {
   "cell_type": "code",
   "execution_count": 18,
   "metadata": {
    "slideshow": {
     "slide_type": "slide"
    }
   },
   "outputs": [
    {
     "name": "stdout",
     "output_type": "stream",
     "text": [
      "<class 'int'>\n",
      "<class 'NoneType'>\n",
      "<class 'list'>\n",
      "<class 'bool'>\n",
      "<class 'float'>\n",
      "<class 'tuple'>\n",
      "<class 'str'>\n",
      "<class 'dict'>\n"
     ]
    }
   ],
   "source": [
    "print(type(1023))\n",
    "print(type(None))\n",
    "print(type([2, 4, 8, 16]))\n",
    "print(type(True))\n",
    "print(type(17.54))\n",
    "print(type(('Roger', 1952)))\n",
    "print(type(\"my fat cat\"))\n",
    "print(type({'name':'Roger','birth':1952}))"
   ]
  },
  {
   "cell_type": "markdown",
   "metadata": {
    "slideshow": {
     "slide_type": "slide"
    }
   },
   "source": [
    "What is the result of each operation?  \n",
    "`s = \"my fat cat\\n\"`  \n",
    "- `s.split()`\n",
    "- `s[-6]`\n",
    "- `s.upper()`\n",
    "- `s.strip()`\n",
    "- `s[7:10]`\n",
    "- `s.find(\"fat\")`\n",
    "- `s.replace(\"c\",\"r\")`\n",
    "- `s.startswith(\"cat\")`"
   ]
  },
  {
   "cell_type": "markdown",
   "metadata": {
    "slideshow": {
     "slide_type": "slide"
    }
   },
   "source": [
    "What is the result of each operation?  \n",
    "`s = \"my fat cat\\n\"`  \n",
    "- **`s.split()`**\n",
    "- `s[-6]`\n",
    "- `s.upper()`\n",
    "- `s.strip()`\n",
    "- `s[7:10]`\n",
    "- `s.find(\"fat\")`\n",
    "- `s.replace(\"c\",\"r\")`\n",
    "- `s.startswith(\"cat\")`"
   ]
  },
  {
   "cell_type": "code",
   "execution_count": 55,
   "metadata": {
    "slideshow": {
     "slide_type": "slide"
    }
   },
   "outputs": [
    {
     "data": {
      "text/plain": [
       "['my', 'fat', 'cat']"
      ]
     },
     "execution_count": 55,
     "metadata": {},
     "output_type": "execute_result"
    }
   ],
   "source": [
    "# What is the result of each operation?  \n",
    "s = \"my fat cat\\n\"\n",
    "s.split()"
   ]
  },
  {
   "cell_type": "markdown",
   "metadata": {
    "slideshow": {
     "slide_type": "slide"
    }
   },
   "source": [
    "What is the result of each operation?  \n",
    "`s = \"my fat cat\\n\"`  \n",
    "- `s.split()`\n",
    "- **`s[-6]`**\n",
    "- `s.upper()`\n",
    "- `s.strip()`\n",
    "- `s[7:10]`\n",
    "- `s.find(\"fat\")`\n",
    "- `s.replace(\"c\",\"r\")`\n",
    "- `s.startswith(\"cat\")`"
   ]
  },
  {
   "cell_type": "code",
   "execution_count": 56,
   "metadata": {
    "slideshow": {
     "slide_type": "slide"
    }
   },
   "outputs": [
    {
     "data": {
      "text/plain": [
       "'t'"
      ]
     },
     "execution_count": 56,
     "metadata": {},
     "output_type": "execute_result"
    }
   ],
   "source": [
    "# What is the result of each operation?  \n",
    "s = \"my fat cat\\n\"\n",
    "s[-6]"
   ]
  },
  {
   "cell_type": "markdown",
   "metadata": {
    "slideshow": {
     "slide_type": "slide"
    }
   },
   "source": [
    "What is the result of each operation?  \n",
    "`s = \"my fat cat\\n\"`  \n",
    "- `s.split()`\n",
    "- `s[-6]`\n",
    "- **`s.upper()`**\n",
    "- `s.strip()`\n",
    "- `s[7:10]`\n",
    "- `s.find(\"fat\")`\n",
    "- `s.replace(\"c\",\"r\")`\n",
    "- `s.startswith(\"cat\")`"
   ]
  },
  {
   "cell_type": "code",
   "execution_count": 57,
   "metadata": {
    "slideshow": {
     "slide_type": "slide"
    }
   },
   "outputs": [
    {
     "data": {
      "text/plain": [
       "'MY FAT CAT\\n'"
      ]
     },
     "execution_count": 57,
     "metadata": {},
     "output_type": "execute_result"
    }
   ],
   "source": [
    "# What is the result of each operation?  \n",
    "s = \"my fat cat\\n\"\n",
    "s.upper()"
   ]
  },
  {
   "cell_type": "markdown",
   "metadata": {
    "slideshow": {
     "slide_type": "slide"
    }
   },
   "source": [
    "What is the result of each operation?  \n",
    "`s = \"my fat cat\\n\"`  \n",
    "- `s.split()`\n",
    "- `s[-6]`\n",
    "- `s.upper()`\n",
    "- **`s.strip()`**\n",
    "- `s[7:10]`\n",
    "- `s.find(\"fat\")`\n",
    "- `s.replace(\"c\",\"r\")`\n",
    "- `s.startswith(\"cat\")`"
   ]
  },
  {
   "cell_type": "code",
   "execution_count": 58,
   "metadata": {
    "slideshow": {
     "slide_type": "slide"
    }
   },
   "outputs": [
    {
     "data": {
      "text/plain": [
       "'my fat cat'"
      ]
     },
     "execution_count": 58,
     "metadata": {},
     "output_type": "execute_result"
    }
   ],
   "source": [
    "# What is the result of each operation?  \n",
    "s = \"my fat cat\\n\"\n",
    "s.strip()"
   ]
  },
  {
   "cell_type": "markdown",
   "metadata": {
    "slideshow": {
     "slide_type": "slide"
    }
   },
   "source": [
    "What is the result of each operation?  \n",
    "`s = \"my fat cat\\n\"`  \n",
    "- `s.split()`\n",
    "- `s[-6]`\n",
    "- `s.upper()`\n",
    "- `s.strip()`\n",
    "- **`s[7:10]`**\n",
    "- `s.find(\"fat\")`\n",
    "- `s.replace(\"c\",\"r\")`\n",
    "- `s.startswith(\"cat\")`"
   ]
  },
  {
   "cell_type": "code",
   "execution_count": 59,
   "metadata": {
    "slideshow": {
     "slide_type": "slide"
    }
   },
   "outputs": [
    {
     "data": {
      "text/plain": [
       "'cat'"
      ]
     },
     "execution_count": 59,
     "metadata": {},
     "output_type": "execute_result"
    }
   ],
   "source": [
    "# What is the result of each operation?  \n",
    "s = \"my fat cat\\n\"\n",
    "s[7:10]"
   ]
  },
  {
   "cell_type": "markdown",
   "metadata": {
    "slideshow": {
     "slide_type": "slide"
    }
   },
   "source": [
    "What is the result of each operation?  \n",
    "`s = \"my fat cat\\n\"`  \n",
    "- `s.split()`\n",
    "- `s[-6]`\n",
    "- `s.upper()`\n",
    "- `s.strip()`\n",
    "- `s[7:10]`\n",
    "- **`s.find(\"fat\")`**\n",
    "- `s.replace(\"c\",\"r\")`\n",
    "- `s.startswith(\"cat\")`"
   ]
  },
  {
   "cell_type": "code",
   "execution_count": 60,
   "metadata": {
    "slideshow": {
     "slide_type": "slide"
    }
   },
   "outputs": [
    {
     "data": {
      "text/plain": [
       "3"
      ]
     },
     "execution_count": 60,
     "metadata": {},
     "output_type": "execute_result"
    }
   ],
   "source": [
    "# What is the result of each operation?  \n",
    "s = \"my fat cat\\n\"\n",
    "s.find(\"fat\")"
   ]
  },
  {
   "cell_type": "markdown",
   "metadata": {
    "slideshow": {
     "slide_type": "slide"
    }
   },
   "source": [
    "What is the result of each operation?  \n",
    "`s = \"my fat cat\\n\"`  \n",
    "- `s.split()`\n",
    "- `s[-6]`\n",
    "- `s.upper()`\n",
    "- `s.strip()`\n",
    "- `s[7:10]`\n",
    "- `s.find(\"fat\")`\n",
    "- **`s.replace(\"c\",\"r\")`**\n",
    "- `s.startswith(\"cat\")`"
   ]
  },
  {
   "cell_type": "code",
   "execution_count": 61,
   "metadata": {
    "slideshow": {
     "slide_type": "slide"
    }
   },
   "outputs": [
    {
     "data": {
      "text/plain": [
       "'my fat rat\\n'"
      ]
     },
     "execution_count": 61,
     "metadata": {},
     "output_type": "execute_result"
    }
   ],
   "source": [
    "# What is the result of each operation?  \n",
    "s = \"my fat cat\\n\"\n",
    "s.replace(\"c\",\"r\")"
   ]
  },
  {
   "cell_type": "markdown",
   "metadata": {
    "slideshow": {
     "slide_type": "slide"
    }
   },
   "source": [
    "What is the result of each operation?  \n",
    "`s = \"my fat cat\\n\"`  \n",
    "- `s.split()`\n",
    "- `s[-6]`\n",
    "- `s.upper()`\n",
    "- `s.strip()`\n",
    "- `s[7:10]`\n",
    "- `s.find(\"fat\")`\n",
    "- `s.replace(\"c\",\"r\")`\n",
    "- **`s.startswith(\"cat\")`**"
   ]
  },
  {
   "cell_type": "code",
   "execution_count": 62,
   "metadata": {
    "slideshow": {
     "slide_type": "slide"
    }
   },
   "outputs": [
    {
     "data": {
      "text/plain": [
       "False"
      ]
     },
     "execution_count": 62,
     "metadata": {},
     "output_type": "execute_result"
    }
   ],
   "source": [
    "# What is the result of each operation?  \n",
    "s = \"my fat cat\\n\"\n",
    "s.startswith(\"cat\")"
   ]
  },
  {
   "cell_type": "markdown",
   "metadata": {
    "slideshow": {
     "slide_type": "slide"
    }
   },
   "source": [
    "Write the result of each operation into the fields:  \n",
    "`li = [2, 0, 1, 0]`\n",
    "- `li.count(0)`\n",
    "- `li.append(\"A\")`\n",
    "- `2 in li`\n",
    "- `len(li)`\n",
    "- `li.pop()`\n",
    "- `li.sort()`\n",
    "- `li[2]`\n",
    "- `li[1:-1]`"
   ]
  },
  {
   "cell_type": "markdown",
   "metadata": {
    "slideshow": {
     "slide_type": "slide"
    }
   },
   "source": [
    "Write the result of each operation into the fields:  \n",
    "`li = [2, 0, 1, 0]`\n",
    "- **`li.count(0)`**\n",
    "- `li.append(\"A\")`\n",
    "- `2 in li`\n",
    "- `len(li)`\n",
    "- `li.pop()`\n",
    "- `li.sort()`\n",
    "- `li[2]`\n",
    "- `li[1:-1]`"
   ]
  },
  {
   "cell_type": "code",
   "execution_count": 29,
   "metadata": {
    "slideshow": {
     "slide_type": "slide"
    }
   },
   "outputs": [
    {
     "data": {
      "text/plain": [
       "2"
      ]
     },
     "execution_count": 29,
     "metadata": {},
     "output_type": "execute_result"
    }
   ],
   "source": [
    "# Write the result of each operation into the fields:  \n",
    "li = [2, 0, 1, 0]\n",
    "li.count(0)"
   ]
  },
  {
   "cell_type": "markdown",
   "metadata": {
    "slideshow": {
     "slide_type": "slide"
    }
   },
   "source": [
    "Write the result of each operation into the fields:  \n",
    "`li = [2, 0, 1, 0]`\n",
    "- `li.count(0)`\n",
    "- **`li.append(\"A\")`**\n",
    "- `2 in li`\n",
    "- `len(li)`\n",
    "- `li.pop()`\n",
    "- `li.sort()`\n",
    "- `li[2]`\n",
    "- `li[1:-1]`"
   ]
  },
  {
   "cell_type": "code",
   "execution_count": 38,
   "metadata": {
    "slideshow": {
     "slide_type": "slide"
    }
   },
   "outputs": [
    {
     "data": {
      "text/plain": [
       "[2, 0, 1, 0, 'A']"
      ]
     },
     "execution_count": 38,
     "metadata": {},
     "output_type": "execute_result"
    }
   ],
   "source": [
    "# Write the result of each operation into the fields:  \n",
    "li = [2, 0, 1, 0]\n",
    "li.append(\"A\")\n",
    "li"
   ]
  },
  {
   "cell_type": "markdown",
   "metadata": {
    "slideshow": {
     "slide_type": "slide"
    }
   },
   "source": [
    "Write the result of each operation into the fields:  \n",
    "`li = [2, 0, 1, 0]`\n",
    "- `li.count(0)`\n",
    "- `li.append(\"A\")`\n",
    "- **`2 in li`**\n",
    "- `len(li)`\n",
    "- `li.pop()`\n",
    "- `li.sort()`\n",
    "- `li[2]`\n",
    "- `li[1:-1]`"
   ]
  },
  {
   "cell_type": "code",
   "execution_count": 39,
   "metadata": {
    "slideshow": {
     "slide_type": "slide"
    }
   },
   "outputs": [
    {
     "data": {
      "text/plain": [
       "True"
      ]
     },
     "execution_count": 39,
     "metadata": {},
     "output_type": "execute_result"
    }
   ],
   "source": [
    "# Write the result of each operation into the fields:  \n",
    "li = [2, 0, 1, 0]\n",
    "2 in li"
   ]
  },
  {
   "cell_type": "markdown",
   "metadata": {
    "slideshow": {
     "slide_type": "slide"
    }
   },
   "source": [
    "Write the result of each operation into the fields:  \n",
    "`li = [2, 0, 1, 0]`\n",
    "- `li.count(0)`\n",
    "- `li.append(\"A\")`\n",
    "- `2 in li`\n",
    "- **`len(li)`**\n",
    "- `li.pop()`\n",
    "- `li.sort()`\n",
    "- `li[2]`\n",
    "- `li[1:-1]`"
   ]
  },
  {
   "cell_type": "code",
   "execution_count": 40,
   "metadata": {
    "slideshow": {
     "slide_type": "slide"
    }
   },
   "outputs": [
    {
     "data": {
      "text/plain": [
       "4"
      ]
     },
     "execution_count": 40,
     "metadata": {},
     "output_type": "execute_result"
    }
   ],
   "source": [
    "# Write the result of each operation into the fields:  \n",
    "li = [2, 0, 1, 0]\n",
    "len(li)"
   ]
  },
  {
   "cell_type": "markdown",
   "metadata": {
    "slideshow": {
     "slide_type": "slide"
    }
   },
   "source": [
    "Write the result of each operation into the fields:  \n",
    "`li = [2, 0, 1, 0]`\n",
    "- `li.count(0)`\n",
    "- `li.append(\"A\")`\n",
    "- `2 in li`\n",
    "- `len(li)`\n",
    "- **`li.pop()`**\n",
    "- `li.sort()`\n",
    "- `li[2]`\n",
    "- `li[1:-1]`"
   ]
  },
  {
   "cell_type": "code",
   "execution_count": 48,
   "metadata": {
    "slideshow": {
     "slide_type": "slide"
    }
   },
   "outputs": [
    {
     "name": "stdout",
     "output_type": "stream",
     "text": [
      "0\n",
      "[2, 0, 1]\n"
     ]
    }
   ],
   "source": [
    "# Write the result of each operation into the fields:  \n",
    "li = [2, 0, 1, 0]\n",
    "print(li.pop())\n",
    "# Default is to take the last from list\n",
    "print(li)"
   ]
  },
  {
   "cell_type": "markdown",
   "metadata": {
    "slideshow": {
     "slide_type": "slide"
    }
   },
   "source": [
    "Write the result of each operation into the fields:  \n",
    "`li = [2, 0, 1, 0]`\n",
    "- `li.count(0)`\n",
    "- `li.append(\"A\")`\n",
    "- `2 in li`\n",
    "- `len(li)`\n",
    "- `li.pop()`\n",
    "- **`li.sort()`**\n",
    "- `li[2]`\n",
    "- `li[1:-1]`"
   ]
  },
  {
   "cell_type": "code",
   "execution_count": 50,
   "metadata": {
    "slideshow": {
     "slide_type": "slide"
    }
   },
   "outputs": [
    {
     "data": {
      "text/plain": [
       "[0, 0, 1, 2]"
      ]
     },
     "execution_count": 50,
     "metadata": {},
     "output_type": "execute_result"
    }
   ],
   "source": [
    "# Write the result of each operation into the fields:  \n",
    "li = [2, 0, 1, 0]\n",
    "li.sort()\n",
    "li"
   ]
  },
  {
   "cell_type": "markdown",
   "metadata": {
    "slideshow": {
     "slide_type": "slide"
    }
   },
   "source": [
    "Write the result of each operation into the fields:  \n",
    "`li = [2, 0, 1, 0]`\n",
    "- `li.count(0)`\n",
    "- `li.append(\"A\")`\n",
    "- `2 in li`\n",
    "- `len(li)`\n",
    "- `li.pop()`\n",
    "- `li.sort()`\n",
    "- **`li[2]`**\n",
    "- `li[1:-1]`"
   ]
  },
  {
   "cell_type": "code",
   "execution_count": 51,
   "metadata": {
    "slideshow": {
     "slide_type": "slide"
    }
   },
   "outputs": [
    {
     "data": {
      "text/plain": [
       "1"
      ]
     },
     "execution_count": 51,
     "metadata": {},
     "output_type": "execute_result"
    }
   ],
   "source": [
    "# Write the result of each operation into the fields:  \n",
    "li = [2, 0, 1, 0]\n",
    "li[2]"
   ]
  },
  {
   "cell_type": "markdown",
   "metadata": {
    "slideshow": {
     "slide_type": "slide"
    }
   },
   "source": [
    "Write the result of each operation into the fields:  \n",
    "`li = [2, 0, 1, 0]`\n",
    "- `li.count(0)`\n",
    "- `li.append(\"A\")`\n",
    "- `2 in li`\n",
    "- `len(li)`\n",
    "- `li.pop()`\n",
    "- `li.sort()`\n",
    "- `li[2]`\n",
    "- **`li[1:-1]`**"
   ]
  },
  {
   "cell_type": "code",
   "execution_count": 53,
   "metadata": {
    "slideshow": {
     "slide_type": "slide"
    }
   },
   "outputs": [
    {
     "data": {
      "text/plain": [
       "[0, 1]"
      ]
     },
     "execution_count": 53,
     "metadata": {},
     "output_type": "execute_result"
    }
   ],
   "source": [
    "# Write the result of each operation into the fields:  \n",
    "li = [2, 0, 1, 0]\n",
    "li[1:-1] # Go from element 1 to the before last element"
   ]
  },
  {
   "cell_type": "markdown",
   "metadata": {
    "slideshow": {
     "slide_type": "slide"
    }
   },
   "source": [
    "Write the correct operations to the sequential code below:\n",
    "```python\n",
    "a = a[2:6]\n",
    "a = [a[-3]] + [a[1]]\n",
    "a = a[:2]\n",
    "a = [a[-1]]*3\n",
    "a = a[:2] + a[1:]\n",
    "```\n",
    "----\n",
    "```\n",
    "- a = ['A', 'B', 'c', None, 3]\n",
    "- a == ['A', 'B', 'B', 'c', None, 3]\n",
    "- a == ['B', 'c', None, 3]\n",
    "- a == ['c', 'c']\n",
    "- a == ['c', 'c', 'c']\n",
    "- a == ['c', 'c']\n",
    "```"
   ]
  },
  {
   "cell_type": "code",
   "execution_count": 14,
   "metadata": {
    "slideshow": {
     "slide_type": "slide"
    }
   },
   "outputs": [
    {
     "data": {
      "text/plain": [
       "['c', 'c']"
      ]
     },
     "execution_count": 14,
     "metadata": {},
     "output_type": "execute_result"
    }
   ],
   "source": [
    "a = ['A', 'B', 'c', None, 3]\n",
    "#a = a[:2] + a[1:]\n",
    "#a = a[2:6]\n",
    "#a = [a[-3]] + [a[1]]\n",
    "#a = [a[-1]]*3\n",
    "#a = a[:2]\n",
    "a"
   ]
  },
  {
   "cell_type": "markdown",
   "metadata": {
    "slideshow": {
     "slide_type": "slide"
    }
   },
   "source": [
    "Write the correct operations to the sequential code below:\n",
    "```python\n",
    "a.reverse()\n",
    "a.sort()\n",
    "a.pop()\n",
    "a.append(4)\n",
    "a = a + [5,3]\n",
    "a.remove(5)\n",
    "```\n",
    "----\n",
    "```\n",
    "- a = [1, 3, 4, 5]\n",
    "- a == [1, 3, 4]\n",
    "- a == [1, 3, 4, 5, 3]\n",
    "- a == [3, 4, 5, 3, 1]\n",
    "- a == [3, 5, 4, 3, 1]\n",
    "- a == [3, 4, 3, 1]\n",
    "- a == [1, 3, 3, 4]\n",
    "- a == [1, 3, 3, 4, 4]\n",
    "```"
   ]
  },
  {
   "cell_type": "code",
   "execution_count": 23,
   "metadata": {
    "slideshow": {
     "slide_type": "slide"
    }
   },
   "outputs": [
    {
     "data": {
      "text/plain": [
       "[1, 3, 4, 5]"
      ]
     },
     "execution_count": 23,
     "metadata": {},
     "output_type": "execute_result"
    }
   ],
   "source": [
    "a = [1, 3, 4, 5]\n",
    "#a.pop()\n",
    "#a = a + [5, 3]\n",
    "#a.reverse()\n",
    "#a.remove(5)\n",
    "#a.sort()\n",
    "#a.append(4)\n",
    "a"
   ]
  },
  {
   "cell_type": "markdown",
   "metadata": {
    "slideshow": {
     "slide_type": "slide"
    }
   },
   "source": [
    "Which of these while commands are correct?\n",
    "```python\n",
    "while a = 1:\n",
    "while a+7:\n",
    "while len(c) > 10:\n",
    "while a and (b-2 == c):\n",
    "while b == 1\n",
    "while s.find('c') >= 0:\n",
    "```"
   ]
  },
  {
   "cell_type": "code",
   "execution_count": 27,
   "metadata": {
    "slideshow": {
     "slide_type": "slide"
    }
   },
   "outputs": [
    {
     "ename": "SyntaxError",
     "evalue": "invalid syntax (<ipython-input-27-77070222364b>, line 2)",
     "output_type": "error",
     "traceback": [
      "\u001b[1;36m  File \u001b[1;32m\"<ipython-input-27-77070222364b>\"\u001b[1;36m, line \u001b[1;32m2\u001b[0m\n\u001b[1;33m    while a = 1:   # incorrect, it is an assignment\u001b[0m\n\u001b[1;37m            ^\u001b[0m\n\u001b[1;31mSyntaxError\u001b[0m\u001b[1;31m:\u001b[0m invalid syntax\n"
     ]
    }
   ],
   "source": [
    "while a = 1:   # incorrect, it is an assignment\n",
    "while a+7:     # correct\n",
    "while len(c) > 10: # correct\n",
    "while a and (b-2 == c): # correct\n",
    "while b == 1 # is missing a :\n",
    "while s.find('c') >= 0: # correct"
   ]
  },
  {
   "cell_type": "markdown",
   "metadata": {
    "slideshow": {
     "slide_type": "slide"
    }
   },
   "source": [
    "Which of these statements are correct?\n",
    "- 'while' is also called a conditional loop.\n",
    "- The expression after while may contain function calls. \n",
    "- It is possible to write endless while loops.\n",
    "- The colon after while may be omitted.\n",
    "- The code blok after while is executed at least once."
   ]
  },
  {
   "cell_type": "markdown",
   "metadata": {
    "slideshow": {
     "slide_type": "slide"
    }
   },
   "source": [
    "Which of these statements are correct?\n",
    "- **'while' is also called a conditional loop.**\n",
    "- **The expression after while may contain function calls.** \n",
    "- **It is possible to write endless while loops.**\n",
    "- The colon after while may be omitted.\n",
    "- The code blok after while is executed at least once."
   ]
  },
  {
   "cell_type": "markdown",
   "metadata": {
    "slideshow": {
     "slide_type": "slide"
    }
   },
   "source": [
    "Which of these for commands are correct? \n",
    "```python\n",
    "- for char in \"ABCD\":\n",
    "- for i in range(10):\n",
    "- for num in (4,6,8):\n",
    "- for k in 3+7:\n",
    "- for var in seq:\n",
    "```"
   ]
  },
  {
   "cell_type": "markdown",
   "metadata": {
    "slideshow": {
     "slide_type": "slide"
    }
   },
   "source": [
    "Which of these for commands are correct? \n",
    "```python\n",
    "- for char in \"ABCD\": # correct\n",
    "- for i in range(10): # correct\n",
    "- for num in (4,6,8): # correct\n",
    "- for k in 3+7:       # correct\n",
    "- for var in seq:     # correct if seq is a list/tuple/string\n",
    "```"
   ]
  },
  {
   "cell_type": "markdown",
   "metadata": {
    "slideshow": {
     "slide_type": "slide"
    }
   },
   "source": [
    "Which of these if statements are syntactically correct?\n",
    "```python\n",
    "- if a and b:\n",
    "- if len(s) == 23:\n",
    "- if a but not b<3:\n",
    "- if a ** 2 >= 49:\n",
    "- if a != 3:\n",
    "- if (a and b) or (c and d):\n",
    "```"
   ]
  },
  {
   "cell_type": "markdown",
   "metadata": {
    "slideshow": {
     "slide_type": "slide"
    }
   },
   "source": [
    "Which of these if statements are syntactically correct?\n",
    "```python\n",
    "- if a and b:         # correct\n",
    "- if len(s) == 23:    # correct\n",
    "- if a but not b<3:   # incorrect (but doesn't exist)\n",
    "- if a ** 2 >= 49:    # correct\n",
    "- if a != 3:          # correct\n",
    "- if (a and b) or (c and d): # correct\n",
    "```"
   ]
  }
 ],
 "metadata": {
  "celltoolbar": "Slideshow",
  "kernelspec": {
   "display_name": "Python 3",
   "language": "python",
   "name": "python3"
  },
  "language_info": {
   "codemirror_mode": {
    "name": "ipython",
    "version": 3
   },
   "file_extension": ".py",
   "mimetype": "text/x-python",
   "name": "python",
   "nbconvert_exporter": "python",
   "pygments_lexer": "ipython3",
   "version": "3.7.3"
  }
 },
 "nbformat": 4,
 "nbformat_minor": 2
}
