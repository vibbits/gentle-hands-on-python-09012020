{
 "cells": [
  {
   "cell_type": "markdown",
   "metadata": {},
   "source": [
    "## 7. Homework\n",
    "*Practice makes perfect*  \n",
    "\n",
    "### End of day 1 - homework!\n",
    "****\n",
    "Please complete the exercise below - as we introduced a lot of new concepts it is important that you practice them so we can continue with new ones on the second day.\n",
    "\n",
    "### 2. Programming exercise\n",
    "Write a program that does the following:\n",
    "\n",
    "1. Ask the user for a full DNA sequence\n",
    "    - Make sure the sequence contains only GACT\n",
    "2. Once you have a valid sequence\n",
    "    - For each DNA fragment the user enters:\n",
    "        - Check if it occurs in the full sequence\n",
    "        - Print out the sequence position if so\n",
    "        - Track each fragment\n",
    "    - Keep on asking the user for DNA fragments, stop if they just press return\n",
    "3. As a summary, print out all fragments with their position that you tracked"
   ]
  },
  {
   "cell_type": "markdown",
   "metadata": {},
   "source": [
    "Tips to complete this exercise in case you get stuck.\n",
    "- Use while loops: you can use the condition to decide when to end the loop depending on the user input\n",
    "- Track the sequence fragment and position data using a list\n",
    "- Use string methods!\n",
    "- To check the full DNA sequence, you can count how many times each GACT letter occurs, add up these counts, and compare this value to the total length of the full DNA sequence"
   ]
  },
  {
   "cell_type": "code",
   "execution_count": null,
   "metadata": {},
   "outputs": [],
   "source": [
    "# This variable will be used for the while loop\n",
    "validSequence = False\n",
    " \n",
    "# Keep on going as long as the DNA sequence is not valid\n",
    "while not validSequence:\n",
    "    # Get a string from the user\n",
    "    fullDnaSequence = input(\"Please enter your full DNA sequence:\")\n",
    "    fullDnaSequence = fullDnaSequence.upper()\n",
    "    \n",
    "    # Count the GACT characters in the sequence\n",
    "    gactCount = 0\n",
    "    for code in 'GACT':\n",
    "        gactCount += fullDnaSequence.count(code)\n",
    " \n",
    "    # Check if the number of GACT characters matches the full length of the sequence\n",
    "    # and set validSequence to True if so - this will stop the while: loop\n",
    "    if gactCount == len(fullDnaSequence):\n",
    "        validSequence = True\n",
    "    else:\n",
    "        print(\"\\nInvalid sequence, only GACT allowed, try again!.\\n\")\n",
    "\n",
    "# Print some line breaks\n",
    "print(\"\\n\\n\")\n",
    " \n",
    "# Prime the list to track the DNA fragments and the variable for the while loop\n",
    "dnaFragmentInfo = []\n",
    "dnaFragment = input(\"Please give a DNA fragment to check:\")\n",
    " \n",
    "while dnaFragment:\n",
    "    \n",
    "    # Check if present at all\n",
    "    dnaFragmentCount = fullDnaSequence.count(dnaFragment)\n",
    "    if dnaFragmentCount:\n",
    "        currentDnaSequenceIndex = 0\n",
    "        for i in range(dnaFragmentCount):        \n",
    "            # Equivalent to currentDnaSequenceIndex = currentDnaSequenceIndex + fullDna...\n",
    "            currentDnaSequenceIndex += fullDnaSequence[currentDnaSequenceIndex:].index(dnaFragment)\n",
    " \n",
    "            print(\"\\n  Fragment {} present at position {}.\\n\".format(dnaFragment,currentDnaSequenceIndex + 1))\n",
    "            dnaFragmentInfo.append((currentDnaSequenceIndex + 1,dnaFragment))\n",
    "            currentDnaSequenceIndex += 1\n",
    "    else:\n",
    "        print(\"\\n  Fragment {} not present!\\n\".format(dnaFragment))\n",
    " \n",
    "    dnaFragment = input(\"Please give a DNA fragment to check:\")\n",
    "\n",
    "# Print some line breaks\n",
    "print(\"\\n\\n\")\n",
    "\n",
    "# Print out the fragment information again, first sort it\n",
    "dnaFragmentInfo.sort()\n",
    "for (dnaFragmentPosition,dnaFragment) in dnaFragmentInfo:\n",
    "    print(\"Found {} at position {}\".format(dnaFragment,dnaFragmentPosition))"
   ]
  }
 ],
 "metadata": {
  "kernelspec": {
   "display_name": "Python 3",
   "language": "python",
   "name": "python3"
  },
  "language_info": {
   "codemirror_mode": {
    "name": "ipython",
    "version": 3
   },
   "file_extension": ".py",
   "mimetype": "text/x-python",
   "name": "python",
   "nbconvert_exporter": "python",
   "pygments_lexer": "ipython3",
   "version": "3.7.3"
  }
 },
 "nbformat": 4,
 "nbformat_minor": 2
}
