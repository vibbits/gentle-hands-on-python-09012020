{
 "cells": [
  {
   "cell_type": "markdown",
   "metadata": {},
   "source": [
    "# 10. Functions\n",
    "*re-use the same bit of code*\n",
    "\n",
    "## 10.1 Introduction\n",
    "\n",
    "So far we've been writing 'sequential' code, basically following the flow of the code from the top to the bottom of the program. Sometimes, however, you want to re-use code elsewhere without copy/pasting a bit of code. You can do this with functions; a function holds a block of code that can be called from other places. Functions are essential for larger projects and code maintenance - if there's a problem with that piece of code, for example, you only have to fix it in one place.\n",
    "\n",
    "## 10.2 Functions\n",
    "\n",
    "We've already been using built-in Python functions, for example **abs()** or **len()**. In this section we will build our own functions however. Generally, the syntax when calling a function is the name of the function followed by round brackets **( )**. In essence, a function would then look like this:\n",
    "```\n",
    "def name_function():\n",
    "    \"Some information about the function\"\n",
    "    \n",
    "    print(\"This is a very simple function\")\n",
    "```\n",
    "Information is given to a function by means of an argument. In the example above an argument is not defined, hence whenever you call the function it will print the same text. Arguments are defined within the parenthesis and are separated by commas in case there are multiple arguments. The following code is an example of a function that will take some value and return the absolute value by inverting it if it's negative:"
   ]
  },
  {
   "cell_type": "code",
   "execution_count": null,
   "metadata": {},
   "outputs": [],
   "source": [
    "def myAbsFunc(someValue):\n",
    "    # myAbsFunc takes a number as input and will return the absolute value\n",
    "    if someValue < 0:\n",
    "        someValue = -someValue\n",
    "    return someValue\n",
    " \n",
    "print(abs(-10))\n",
    "\n",
    "absoluteValue = myAbsFunc(-10)\n",
    "print(absoluteValue)"
   ]
  },
  {
   "cell_type": "markdown",
   "metadata": {},
   "source": [
    "So here we've emulated the Python built-in abs() function with myAbsFunc(). Within a function you can use **return** to 'send back' a value, which can then be used somewhere else in the code.\n",
    "\n",
    "Functions can also make code more 'readable', as you can give them a name that is easy to understand so that it's clear what is happening without having to examine the code. "
   ]
  },
  {
   "cell_type": "code",
   "execution_count": null,
   "metadata": {},
   "outputs": [],
   "source": [
    "def getMeanValue(valueList):\n",
    "    \"\"\"\n",
    "    Calculate the mean (average) value from a list of values.\n",
    "    Input: list of integers/floats\n",
    "    Output: mean value\n",
    "    \"\"\"\n",
    "    valueTotal = 0.0\n",
    " \n",
    "    for value in valueList: # This for loop calculates the sum of all values. It is however also possible to use the Python built-in function sum()\n",
    "        valueTotal += value\n",
    "    numberValues = len(valueList)\n",
    "    \n",
    "    return (valueTotal/numberValues)\n",
    "\n",
    "help(getMeanValue)\n",
    "meanValue = getMeanValue([4,6,77,3,67,54,6,5])\n",
    "print(meanValue)\n",
    "print(getMeanValue([3443,434,34343456,32434,34,34341,23]))"
   ]
  },
  {
   "cell_type": "code",
   "execution_count": null,
   "metadata": {},
   "outputs": [],
   "source": [
    "listOfValues = [4,6,77,3,67,54,6,5]\n",
    "sum(listOfValues)\n",
    "sum(listOfValues)/len(listOfValues)"
   ]
  },
  {
   "cell_type": "markdown",
   "metadata": {},
   "source": [
    "Note that it's a good practice to add a comment (in this case a multi-line one) to the top of the function that describes what it does, what it takes as input and what it produces as output. This is especially important for more complex functions. You can invoke the information with `help(function_name)`\n",
    "\n",
    "You can call functions within functions, basically anywhere in the code, also in conditions, ...:"
   ]
  },
  {
   "cell_type": "code",
   "execution_count": null,
   "metadata": {},
   "outputs": [],
   "source": [
    "def getMeanValue(valueList):\n",
    "    \"\"\"\n",
    "    Calculate the mean (average) value from a list of values.\n",
    "    Input: list of integers/floats\n",
    "    Output: mean value\n",
    "    \"\"\"\n",
    "    valueTotal = 0.0\n",
    " \n",
    "    for value in valueList:\n",
    "        valueTotal += value\n",
    "    numberValues = len(valueList)\n",
    "    \n",
    "    return (valueTotal/numberValues)\n",
    " \n",
    "def compareMeanValueOfLists(valueList1,valueList2):\n",
    " \n",
    "    \"\"\"\n",
    "    Compare the mean values of two lists of values.\n",
    "    Input: valueList1, valueList2\n",
    "    Output: Text describing which of the valueLists has the highest average value\n",
    "    \"\"\"\n",
    " \n",
    "    meanValueList1 = getMeanValue(valueList1)\n",
    "    meanValueList2 = getMeanValue(valueList2)\n",
    " \n",
    "    if meanValueList1 == meanValueList2:\n",
    "        outputText = \"The mean values are the same ({:.2f}).\".format(meanValueList1)\n",
    "    elif meanValueList1 > meanValueList2:\n",
    "        outputText = \"List1 has a higher average ({:.2f}) than list2 ({:.2f}).\".format(meanValueList1,meanValueList2)\n",
    "    else:\n",
    "        # No need to compare again, only possibility left\n",
    "        outputText = \"List2 has a higher average ({:.2f}) than list1 ({:.2f}).\".format(meanValueList2,meanValueList1)\n",
    " \n",
    "    return outputText\n",
    " \n",
    "valueList1 = [4,6,77,3,67,54,6,5]\n",
    "valueList2 = [5,5,76,5,65,56,4,5]\n",
    " \n",
    "print(compareMeanValueOfLists(valueList1,valueList2))\n",
    " \n",
    "if getMeanValue(valueList1) > 1:\n",
    "    print(\"The mean value of list 1 is greater than 1.\")"
   ]
  },
  {
   "cell_type": "markdown",
   "metadata": {},
   "source": [
    "---\n",
    "### 10.2.1 Exercise\n",
    "\n",
    "The Hamming distance between two strings of equal length is the number of positions at which the corresponding character are different. In a more general context, the Hamming distance is one of several string metrics for measuring the edit distance between two sequences. \n",
    "\n",
    "The Hamming distance between:\n",
    "\n",
    "\"karolin\" and \"kathrin\" is 3.\n",
    "\n",
    "Write a function called \"hamming_distance\" which accepts two strings and raises an error if the lengths are unequal. Furthermore the function will return an integer that represents the number of mismatches between the two sequences. \n",
    "\n",
    "---"
   ]
  },
  {
   "cell_type": "code",
   "execution_count": null,
   "metadata": {},
   "outputs": [],
   "source": []
  },
  {
   "cell_type": "markdown",
   "metadata": {},
   "source": [
    "---\n",
    "### 10.2.2 Exercise\n",
    "\n",
    "Write a function that calculates the GC content of the sequence in a fasta file. For this example you can use [this fasta file](data/gene.fa) which contains the genetic sequence of a bone gla protein. The function must accept a fasta file as input file and will print the following:\n",
    "\n",
    "```\n",
    "The GC content of HSBGPG Human gene for bone gla protein (BGP) is\t 63.53%\n",
    "```\n",
    "\n",
    "The method [.startswith()](https://www.tutorialspoint.com/python/string_startswith.html) might help. The function should read the lines of the fasta file and if it starts with a '>' define the text that comes afterwards as the sequence ID. The other lines are part of the sequence. After reading through the lines, you can easily define the GC content by counting the bases and taking the average. \n",
    "\n",
    "---\n"
   ]
  },
  {
   "cell_type": "code",
   "execution_count": null,
   "metadata": {},
   "outputs": [],
   "source": []
  },
  {
   "cell_type": "code",
   "execution_count": null,
   "metadata": {},
   "outputs": [],
   "source": []
  },
  {
   "cell_type": "markdown",
   "metadata": {},
   "source": [
    "## 10.3 Keywords in functions\n",
    "\n",
    "In the functions so far we've been using values (arguments) that are passed in and are required for the function to work. You can also give *keywords* to a function; these are not required for the function to work because they are given a default value in the function definition. You can then set these keywords if necessary; consider this example:"
   ]
  },
  {
   "cell_type": "code",
   "execution_count": null,
   "metadata": {},
   "outputs": [],
   "source": [
    "def getBeerColour(nameOfBeer,printColour=False):\n",
    " \n",
    "    \"\"\"\n",
    "    Get the colour of a type of beer\n",
    "    Input: name of the beer\n",
    "         optional keyword printColour: if True, will print the colour\n",
    "                                       within this function \n",
    "    Output: colour of the beer\n",
    "    \"\"\"\n",
    " \n",
    "    colourOfBeer = 'unknown'\n",
    " \n",
    "    if nameOfBeer.upper() in ('DUVEL','JUPILER','WESTMALLE TRIPEL'):\n",
    "        colourOfBeer = 'blond'\n",
    "    elif nameOfBeer.upper() in ('PALM',):\n",
    "        colourOfBeer = 'amber'\n",
    "    elif nameOfBeer.upper() in ('KASTEELBIER','CHIMAY BLEUE'):\n",
    "        colourOfBeer = 'dark'\n",
    " \n",
    "    if printColour:\n",
    "        print(\"Colour of beer '{}' is {}!\".format(nameOfBeer,colourOfBeer))\n",
    " \n",
    "    return colourOfBeer\n",
    " \n",
    "print(getBeerColour('Duvel'))\n",
    " \n",
    "#getBeerColour('Palm',printColour=True)"
   ]
  },
  {
   "cell_type": "markdown",
   "metadata": {},
   "source": [
    "Using these keywords makes the function a lot more flexible - you can make the function do things (or not) depending on them."
   ]
  },
  {
   "cell_type": "markdown",
   "metadata": {},
   "source": [
    "## 10.4 Next session\n",
    "\n",
    "Go to our [next chapter](11_Modules.ipynb). "
   ]
  }
 ],
 "metadata": {
  "kernelspec": {
   "display_name": "Python 3",
   "language": "python",
   "name": "python3"
  },
  "language_info": {
   "codemirror_mode": {
    "name": "ipython",
    "version": 3
   },
   "file_extension": ".py",
   "mimetype": "text/x-python",
   "name": "python",
   "nbconvert_exporter": "python",
   "pygments_lexer": "ipython3",
   "version": "3.7.3"
  }
 },
 "nbformat": 4,
 "nbformat_minor": 2
}
