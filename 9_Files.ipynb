{
 "cells": [
  {
   "cell_type": "markdown",
   "metadata": {},
   "source": [
    "## 9. Files\n",
    "*Read and write*\n",
    "\n",
    "## 9.1 Introduction\n",
    "\n",
    "More often than not the data you need for your program will come from somewhere else - either from user input or a file. Especially for more complex data it becomes essential to be able to read in data files, do something with the data, and write out a new file with modified information or a set of analysis results.\n",
    "\n",
    "## 9.2 Reading files\n",
    " \n",
    "To read in a file you have to create a *file handle*. This is a sort of connection to the file that you can use to pull data from it. You create a connection to a file by using the **open()** method.\n",
    "\n",
    "Before we do this, download [this fake PDB coordinate file for a 5 residue peptide](data/TestFile.pdb) and save it in the directory you are working in. Then, create the new program below in the same directory - Python has to know where the file is in order to access it."
   ]
  },
  {
   "cell_type": "code",
   "execution_count": null,
   "metadata": {},
   "outputs": [],
   "source": [
    "# Open the file\n",
    "fileHandle = open(\"data/TestFile.pdb\")\n",
    " \n",
    "# Read all the lines in the file (as separated by a newline character), and store them in the lines list\n",
    "# Each element in this list corresponds to one line of the file!\n",
    "lines = fileHandle.readlines()\n",
    " \n",
    "# Close the file\n",
    "fileHandle.close()\n",
    " \n",
    "# Print number of lines in the file\n",
    "print(len(lines))\n",
    " \n",
    "# Loop over the lines, and do some basic string manipulations\n",
    "for line in lines:\n",
    " \n",
    "    line = line.strip()  # Remove starting and trailing spaces/tabs/newlines\n",
    " \n",
    "    # Only do something if it's not an empty line\n",
    "    if line:\n",
    "        cols = line.split()   # Split the line by white spaces; depending on the format this could be commas, ...\n",
    "    "
   ]
  },
  {
   "cell_type": "markdown",
   "metadata": {},
   "source": [
    "Now you can do many other things with the data in the file. If you want to count the number of times a carbon element appears in the file. "
   ]
  },
  {
   "cell_type": "code",
   "execution_count": null,
   "metadata": {},
   "outputs": [],
   "source": [
    "# Open the file\n",
    "fileHandle = open(\"data/TestFile.pdb\")\n",
    " \n",
    "# Read all the lines in the file (as separated by a newline character), and store them in the lines list\n",
    "# Each element in this list corresponds to one line of the file!\n",
    "lines = fileHandle.readlines()\n",
    " \n",
    "# Close the file\n",
    "fileHandle.close()\n",
    " \n",
    "# Initialise the line counter\n",
    "lineCount = 0\n",
    " \n",
    "# Loop over the lines\n",
    "for line in lines:\n",
    "    if line.count(\" C \"):       # Alternatively, use \"if ' C ' in line:\"\n",
    "        print(line, end='')     # Using the 'end' argument in the print because the line already contains a newline at the end\n",
    "                                # otherwise will get double spacing.\n",
    "        lineCount += 1\n",
    "\n",
    "print(\"Number of lines with ' C ': {}\".format(lineCount))"
   ]
  },
  {
   "cell_type": "markdown",
   "metadata": {},
   "source": [
    "You should find 75 lines - note that in this case, for those who know the PDB format a bit, you're finding all carbon atoms."
   ]
  },
  {
   "cell_type": "markdown",
   "metadata": {},
   "source": [
    "## 9.3 Writing a file\n",
    "Writing a file is very similar, except that you have to let Python know you are writing this time by adding the `'w'` parameter. "
   ]
  },
  {
   "cell_type": "code",
   "execution_count": null,
   "metadata": {},
   "outputs": [],
   "source": [
    "# Open the file for writing - by using the extra 'w' argument.\n",
    "# Be careful - if the file exists already it will be overwritten without warning!\n",
    "fileHandle = open(\"data/testFile.txt\",'w') \n",
    " \n",
    "# Write a header line for the data we will be writing. Don't forget the newline at the end!!!\n",
    "fileHandle.write(\"LineNumber Value Divided_five  Rest_divided_five\\n\")\n",
    " \n",
    "# Create some data to write out\n",
    "myData = list(range(50,100))\n",
    "myDivider = 5\n",
    " \n",
    "for dataIndex in range(len(myData)):\n",
    "    myNumber = myData[dataIndex]\n",
    " \n",
    "    divided = myNumber / myDivider\n",
    "    restDivided = myNumber % myDivider\n",
    " \n",
    "    fileHandle.write(\"{:6f}    {:5f}    {:5f}        {:5f}\\n\".format(dataIndex+1,myNumber,divided,restDivided))\n",
    "\n",
    "# Close the file\n",
    "fileHandle.close()\n",
    " \n",
    "# Print number of lines in the file\n",
    "f=open(\"data/testFile.txt\")\n",
    "print(len(f.readlines()))\n",
    "f.close()"
   ]
  },
  {
   "cell_type": "markdown",
   "metadata": {},
   "source": [
    "The file is written to the directory you're executing the program in - have a look!\n",
    "\n",
    "Now we will read in a file, extract all the lines that contain \"VAL\" and write out all those lines to a new variable and then make a file from it. "
   ]
  },
  {
   "cell_type": "code",
   "execution_count": null,
   "metadata": {},
   "outputs": [],
   "source": [
    "# Read in the file from the previous example, and write out all lines that contain 'VAL' to a new file. \n",
    "# Open the file\n",
    "fileHandle = open(\"data/TestFile.pdb\")\n",
    "\n",
    "# Read all the lines in the file (as separated by a newline character), and store them in the lines list\n",
    "# Each element in this list corresponds to one line of the file!\n",
    "lines = fileHandle.readlines()\n",
    " \n",
    "# Close the file\n",
    "fileHandle.close()\n",
    " \n",
    "# Track the lines with VAL\n",
    "linesToWrite = []\n",
    " \n",
    "# Loop over the lines\n",
    "for line in lines:\n",
    "    if line.count(\"VAL\"):      # Alternatively, use \"if ' C ' in line:\"\n",
    "        linesToWrite.append(line)\n",
    "\n",
    "# Write out the lines\n",
    "fileHandle = open(\"data/fileWithVAL.pdb\",'w')\n",
    "for line in linesToWrite:\n",
    "    fileHandle.write(line)\n",
    "\n",
    "# Close the file\n",
    "fileHandle.close()"
   ]
  },
  {
   "cell_type": "markdown",
   "metadata": {},
   "source": [
    "Or alternatively:"
   ]
  },
  {
   "cell_type": "code",
   "execution_count": null,
   "metadata": {},
   "outputs": [],
   "source": [
    "# Read the file\n",
    "f = open(\"data/TestFile.pdb\",\"r\")\n",
    "\n",
    "# Track the lines with VAL\n",
    "linesToWrite = []\n",
    "\n",
    "# Loop over the lines\n",
    "for line in f.readlines():\n",
    "    if line.count(\"VAL\"):      # Alternatively, use \"if ' C ' in line:\"\n",
    "        linesToWrite.append(line)\n",
    "\n",
    "# Write out the lines\n",
    "fileHandle = open(\"data/fileWithVAL.pdb\",'w')\n",
    "for line in linesToWrite:\n",
    "    fileHandle.write(line)\n",
    "\n",
    "# Close the file\n",
    "fileHandle.close()"
   ]
  },
  {
   "cell_type": "markdown",
   "metadata": {},
   "source": [
    "## 9.4 Advanced file reading and interpretation exercise \n",
    "Read in the TestFile.pdb atom coordinate file, print out the title of the file, and find all atoms that have coordinates closer than 2 angstrom to the (x,y,z) coordinate (-8.7,-7.7,4.7). Print out the model number, residue number, atom name and atom serial for each; the model is indicated by:\n",
    "```\n",
    "MODEL     1\n",
    "```\n",
    "lines, the atom coordinate information is in:\n",
    "```\n",
    "ATOM      1  N   ASP A   1     -10.341  -9.922   9.398  1.00  0.00           N\n",
    "```\n",
    "lines, where column 1 is always ATOM, column 2 is the atom serial,  column 3 the atom name, column 4 the residue name, column 5 the chain code, column 6 the residue number, followed by the x, y and z coordinates in angstrom in columns 7, 8 and 9.\n",
    "\n",
    "Note that the distance between two coordinates is calculated as the square root of (x1-x2)²+(y1-y2)²+(z1-z2)²."
   ]
  },
  {
   "cell_type": "code",
   "execution_count": null,
   "metadata": {},
   "outputs": [],
   "source": [
    "# Open the file\n",
    "fileHandle = open(\"data/TestFile.pdb\")\n",
    " \n",
    "# Read all the lines in the file (as separated by a newline character), and store them in the lines list\n",
    "# Each element in this list corresponds to one line of the file!\n",
    "lines = fileHandle.readlines()\n",
    " \n",
    "# Close the file\n",
    "fileHandle.close()\n",
    " \n",
    "# Initialise some information\n",
    "searchCoordinate = (-8.7,-7.7,4.7)\n",
    "modelNumber = None\n",
    " \n",
    "# Loop over the lines, and do some basic string manipulations\n",
    "for line in lines:\n",
    "    line = line.strip()  # Remove starting and trailing spaces/tabs/newlines\n",
    "    \n",
    "    # Only do something if it's not an empty line\n",
    "    if line:\n",
    "        cols = line.split()   # Split the line by white spaces; depending on the format this could be commas, ...\n",
    " \n",
    "    # Print the title\n",
    "    if cols[0] == 'TITLE':\n",
    "        title = line.replace(cols[0],'')\n",
    "        title = title.strip()\n",
    "        print(\"The title is '{}'\".format(title))\n",
    " \n",
    "    # Track the model number\n",
    "    elif cols[0] == 'MODEL':\n",
    "        modelNumber = int(cols[1])\n",
    " \n",
    "    # For atom lines, calculate the distance\n",
    "    elif cols[0] == 'ATOM':\n",
    " \n",
    "        # Set some clear variable names and convert to the right type\n",
    "        atomSerial = int(cols[1])\n",
    "        atomName = cols[2]\n",
    "        residueNumber = int(cols[5])\n",
    "        x = float(cols[6])\n",
    "        y = float(cols[7])\n",
    "        z = float(cols[8])\n",
    " \n",
    "        # Calculate the distance\n",
    "        distance = ((x - searchCoordinate[0]) ** 2 + (y - searchCoordinate[1]) ** 2 + (z - searchCoordinate[2]) ** 2 ) ** 0.5\n",
    "        if distance < 2.0:\n",
    "            print(\"Model {}, residue {}, atom {} (serial {}) is {:.2f} away from reference.\".format(modelNumber,residueNumber,atomName,atomSerial,distance))\n"
   ]
  },
  {
   "cell_type": "markdown",
   "metadata": {},
   "source": [
    "## 9.5 Next session\n",
    "\n",
    "Go to our [next chapter](10_Functions.ipynb)."
   ]
  },
  {
   "cell_type": "code",
   "execution_count": null,
   "metadata": {},
   "outputs": [],
   "source": []
  }
 ],
 "metadata": {
  "kernelspec": {
   "display_name": "Python 3",
   "language": "python",
   "name": "python3"
  },
  "language_info": {
   "codemirror_mode": {
    "name": "ipython",
    "version": 3
   },
   "file_extension": ".py",
   "mimetype": "text/x-python",
   "name": "python",
   "nbconvert_exporter": "python",
   "pygments_lexer": "ipython3",
   "version": "3.7.3"
  }
 },
 "nbformat": 4,
 "nbformat_minor": 2
}
