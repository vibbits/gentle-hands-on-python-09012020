{
 "cells": [
  {
   "cell_type": "markdown",
   "metadata": {},
   "source": [
    "## 5. Lists, Tuples & Sets\n",
    "*Grouping x and y*  \n",
    "\n",
    "### 5.1 Introduction\n",
    "\n",
    "So far we've seen variables where you essentially assign a value to a name that you can use in the program. It is also possible to assign groups of values to a name, in Python these are called *lists* and *tuples* - variables that contain multiple values in a fixed order. Python also has *sets*, which are also variables that contain multiple values, but in no particular order. In [section 8](8_Dictionaries.ipynb) we will also discuss dictionaries. By means of a brief summary, already in this stage; there are four collection data types in Python:\n",
    "- `List` is a collection which is ordered and changeable. Allows duplicate members. Use square brackets [] for lists.\n",
    "- `Tuple` is a collection which is ordered and unchangeable. Allows duplicate members. Use normal brackets () for tuples.\n",
    "- `Set` is a collection which is unordered and unindexed. No duplicate members. Use curly brackets {} for sets. \n",
    "- `Dictionary` is a collection which is unordered, changeable and indexed. No duplicate members. Use curly brackets {} for dictionaries (see [section 8](8_Dictionaries.ipynb)).\n",
    "\n",
    "They are useful in different circumstances, which we'll try to explain below.\n",
    "\n",
    "\n",
    "\n",
    "\n",
    "### 5.2 Lists and range\n",
    "\n",
    "You can make your own Python list from scratch:"
   ]
  },
  {
   "cell_type": "code",
   "execution_count": null,
   "metadata": {},
   "outputs": [],
   "source": [
    "myList = [5,3,56,13,33]\n",
    "print(myList)"
   ]
  },
  {
   "cell_type": "markdown",
   "metadata": {},
   "source": [
    "You can also use the `range()` function. Try this:\n"
   ]
  },
  {
   "cell_type": "code",
   "execution_count": null,
   "metadata": {},
   "outputs": [],
   "source": [
    "myList = list(range(10))\n",
    "print(myList)"
   ]
  },
  {
   "cell_type": "markdown",
   "metadata": {},
   "source": [
    "You should get the following output: [0, 1, 2, 3, 4, 5, 6, 7, 8, 9]. This is a list of integers - you can recognize a list by the square [ ] brackets. **Note** that Python always starts counting from 0. The command above will give you a series of integers starting from 0 and stopping at the number you defined, however with this number **not** included in the list. Hence, it stops at 9. You can start from a different number as well:"
   ]
  },
  {
   "cell_type": "code",
   "execution_count": null,
   "metadata": {},
   "outputs": [],
   "source": [
    "myList = list(range(3,12))\n",
    "print(myList)"
   ]
  },
  {
   "cell_type": "markdown",
   "metadata": {},
   "source": [
    "or increase the step size (the default is step size is 1):\n",
    "\n"
   ]
  },
  {
   "cell_type": "code",
   "execution_count": null,
   "metadata": {},
   "outputs": [],
   "source": [
    "myList = list(range(1,12,2))\n",
    "print(myList)"
   ]
  },
  {
   "cell_type": "markdown",
   "metadata": {},
   "source": [
    "An important feature of lists is that they are flexible - you can add and remove values, change the order, ... . You can do such modifications by calling a *method* from the list itself. Some examples of methods are:\n",
    "- Add elements\n",
    "    - `append()` to append an item to the end of the list\n",
    "    - `insert()` to add an item at the specified index\n",
    "    - `extend()` to extend an item\n",
    "- Delete elements\n",
    "    - `remove()` to remove the specified item\n",
    "    - `pop()` to remove the specified index (or the last item if index is not specified)\n",
    "    - `del` keyword removes the specified index\n",
    "    - `clear()` method empties the list\n",
    "- Sorting:\n",
    "    - `sort()` will sort the list in an ordered way\n",
    "    - `reverse()` will reverse the order of the list\n",
    "- Copy of a list with the `copy()` method\n"
   ]
  },
  {
   "cell_type": "code",
   "execution_count": null,
   "metadata": {},
   "outputs": [],
   "source": [
    "myList = []             # Create an empty list\n",
    "myList.append(5)        # Add a single value to the back of the list\n",
    "print(myList)\n",
    " \n",
    "myList.insert(0,9)      # Insert a value in the list at index (element position) 0\n",
    "print(myList)\n",
    " \n",
    "myList.extend([99,3,5]) # Extend the list with another list\n",
    "print(myList)\n",
    " \n",
    "print(myList[0])        # Return the first element in the list (counting starts at zero)\n",
    "print(myList[2])        # Return the third element in the list\n",
    " \n",
    "myRemovedElement = myList.pop(3)  # Remove the fourth element in the list and return it\n",
    "print(\"I removed {}\".format(myRemovedElement))\n",
    "print(myList)\n",
    " \n",
    "myList.sort()           # You can sort the elements in a list - this will change their order\n",
    "print(myList)\n",
    " \n",
    "myList.reverse()        # Or reverse the order of the list\n",
    "print(myList)"
   ]
  },
  {
   "cell_type": "markdown",
   "metadata": {},
   "source": [
    "You can also select a slice from a list - this will give you a new list:"
   ]
  },
  {
   "cell_type": "code",
   "execution_count": null,
   "metadata": {},
   "outputs": [],
   "source": [
    "myList = list(range(15))\n",
    " \n",
    "myListSlice = myList[3:6]\n",
    "print(myListSlice)\n",
    " \n",
    "myListCopy = myList[:]\n",
    "print(myListCopy)\n",
    " \n",
    "print(myList[-4:])     # This will select the fourth-last to the last element in the list"
   ]
  },
  {
   "cell_type": "markdown",
   "metadata": {},
   "source": [
    "There are two other methods you can use on lists:\n",
    "- `index()` returns the index of the first element with the specified value\n",
    "- `count()` returns the number of elements with the specified value"
   ]
  },
  {
   "cell_type": "code",
   "execution_count": null,
   "metadata": {},
   "outputs": [],
   "source": [
    "myList = list(range(1,15))\n",
    " \n",
    "print(myList)\n",
    " \n",
    "print(myList.count(10))   # Will count the amount of times the value 10 occurs in this list\n",
    "print(myList.count(\"A\"))  # This always works, and will return 0 if nothing is found\n",
    " \n",
    "print(myList.index(10))   # Will give the index of the element with value 10 - in this case 9 because the list index starts at 0.\n",
    "#print(myList.index(\"A\"))  # This will crash the program - the value to look for has to be present in the list!!!"
   ]
  },
  {
   "cell_type": "markdown",
   "metadata": {},
   "source": [
    "---\n",
    "### 5.2.1 Exercise\n",
    "\n",
    "Take the list [54,56,2,1,5223,6,23,57,3,7,3344], sort it in reverse order (largest value first) and print out the third value.\n",
    "\n",
    "---"
   ]
  },
  {
   "cell_type": "code",
   "execution_count": null,
   "metadata": {},
   "outputs": [],
   "source": [
    "# Take the list [54,56,2,1,5223,6,23,57,3,7,3344], sort it in reverse order (largest value first) and print out the third value.\n",
    "myList = [54,56,2,1,5223,6,23,57,3,7,3344]\n",
    "\n",
    "myList.sort()\n",
    "myList.reverse()\n",
    "\n",
    "print(myList[2])\n",
    "#The first element is at index 0, the third at index 3!"
   ]
  },
  {
   "cell_type": "markdown",
   "metadata": {},
   "source": [
    "## 5.3 Tuples  \n",
    "Similar to *lists* are *tuples* - essentially they are the same, except that a tuple cannot be modified once created. This can be useful for values that don't change, like (part of) the alphabet for example:\n",
    "\n"
   ]
  },
  {
   "cell_type": "code",
   "execution_count": null,
   "metadata": {},
   "outputs": [],
   "source": [
    "myTuple = (\"A\",\"B\",\"C\",\"D\",\"E\",\"F\")\n",
    "print(myTuple)"
   ]
  },
  {
   "cell_type": "markdown",
   "metadata": {},
   "source": [
    "Important to remember is that if you create a tuple with one value you have to use a comma:"
   ]
  },
  {
   "cell_type": "code",
   "execution_count": null,
   "metadata": {},
   "outputs": [],
   "source": [
    "myTuple = (\"My string\",)\n",
    "print(myTuple)\n",
    " \n",
    "myWrongTuple = (\"My string\")  # The brackets here don't do anything.\n",
    "print(myWrongTuple)"
   ]
  },
  {
   "cell_type": "markdown",
   "metadata": {},
   "source": [
    "A tuple is indicated by round brackets **( )**. You can interconvert between lists and tuples by using `list()` and `tuple()`:\n",
    "\n"
   ]
  },
  {
   "cell_type": "code",
   "execution_count": null,
   "metadata": {},
   "outputs": [],
   "source": [
    "myTuple = (\"A\",\"B\",\"C\",\"D\",\"E\",\"F\")\n",
    "myList = list(range(10))\n",
    " \n",
    "myNewTuple = tuple(myList)\n",
    "myNewList = list(myTuple)\n",
    " \n",
    "print(\"{} and {}\".format(myList, myNewTuple))\n",
    "print(\"{} and {}\".format(myTuple, myNewList))"
   ]
  },
  {
   "cell_type": "markdown",
   "metadata": {},
   "source": [
    "You can find out the length (number of elements) in a list or tuple with `len()`:"
   ]
  },
  {
   "cell_type": "code",
   "execution_count": null,
   "metadata": {},
   "outputs": [],
   "source": [
    "myTuple = (\"A\",\"B\",\"C\",\"D\",\"E\",\"F\")\n",
    "myTupleLength = len(myTuple)\n",
    "print(myTupleLength)"
   ]
  },
  {
   "cell_type": "markdown",
   "metadata": {},
   "source": [
    "---\n",
    "### 5.3.1 Exercise\n",
    "\n",
    "Start with the tuple ('a','B','c','D','e','F'), sort it, take the fourth value out, and print the result.\n",
    "\n",
    "---"
   ]
  },
  {
   "cell_type": "code",
   "execution_count": null,
   "metadata": {},
   "outputs": [],
   "source": [
    "# Start with the tuple ('a','B','c','D','e','F'), sort it, take the fourth value out, and print the result.\n",
    "myTuple = ('a','B','c','D','e','F')\n",
    "myList = list(myTuple)\n",
    "myList.sort()\n",
    "#print(myList)\n",
    "\n",
    "print (\"Removing {}\".format(myList.pop(3)))\n",
    "print (\"Result is {}\".format(str(tuple(myList))))"
   ]
  },
  {
   "cell_type": "markdown",
   "metadata": {},
   "source": [
    "## 5.4 Strings\n",
    "**Strings are a bit like lists and tuples**  \n",
    "Strings are really a sequence of characters, and they behave similar to lists:"
   ]
  },
  {
   "cell_type": "code",
   "execution_count": null,
   "metadata": {},
   "outputs": [],
   "source": [
    "myString = \"This is a sentence.\"\n",
    " \n",
    "print(myString[0:5])          # Take the first five characters\n",
    " \n",
    "print(myString.count(\"e\"))    # Count the number of 'e' characters\n",
    "\n",
    "print(myString.index(\"i\"))    # Give the index of the first 'i' character"
   ]
  },
  {
   "cell_type": "markdown",
   "metadata": {},
   "source": [
    "You cannot re-assign strings as you do with lists though, the following example does not work:"
   ]
  },
  {
   "cell_type": "code",
   "execution_count": null,
   "metadata": {},
   "outputs": [],
   "source": [
    "myString = \"   This is a sentence.  \"\n",
    " \n",
    "print(myString.upper())       # Upper-case all characters\n",
    " \n",
    "print(myString.lower())       # Lower-case all characters\n",
    " \n",
    "print(myString.strip())       # Strip leading and trailing spaces/tabs/newlines\n",
    " \n",
    "print(myString.split())       # Split the line into elements - default is splitting by whitespace characters\n",
    " \n",
    "print(myString.replace(' is ',' was '))  # Replace ' is ' by ' was '. Spaces are necessary, otherwise the 'is' in 'This' will be replaced!"
   ]
  },
  {
   "cell_type": "markdown",
   "metadata": {},
   "source": [
    "A list with all string methods and a full description can be found in the [Python documentation](https://docs.python.org/3/library/stdtypes.html#string-methods)"
   ]
  },
  {
   "cell_type": "markdown",
   "metadata": {},
   "source": [
    "---\n",
    "### 5.4.1 Exercise\n",
    "\n",
    "Ask the user for two words, then check whether they are the same (upper or lower case should not matter),if not check whether they have the same first letter (again case should not matter). If not, then print their length. \n",
    "\n",
    "---"
   ]
  },
  {
   "cell_type": "code",
   "execution_count": null,
   "metadata": {},
   "outputs": [],
   "source": [
    "# Ask the user for two words, then check whether they are the same (upper or lower case should not matter),if not check whether they have the same first letter (again case should not matter). If not, then print their length. \n",
    "firstWord = input(\"Give first word:\")\n",
    "secondWord = input(\"Give second word:\")\n",
    "\n",
    "print(len(firstWord))\n",
    "\n",
    "if firstWord.upper() == secondWord.upper():\n",
    "    print(\"Words are the same (ignoring case).\")\n",
    "elif firstWord[0].upper() == secondWord[0].upper():\n",
    "    print(\"Words share the same first letter (ignoring case).\")\n",
    "else:\n",
    "    print(\"Word lengths are {} and {}\".format(int((len(firstWord))),int(len(secondWord))))"
   ]
  },
  {
   "cell_type": "markdown",
   "metadata": {},
   "source": [
    "## 5.5 Sets  \n",
    "Very useful as well are sets. These are unordered and unindexed (so the order in which you put in elements doesn't matter), and it is much easier to compare them to each other. Because sets cannot have multiple occurrences of the same element, it makes sets highly useful to efficiently remove duplicate values from a list or tuple and to perform common math operations like unions and intersections.\n",
    "\n",
    "You initialise them by using **set()** on a list or tuple:"
   ]
  },
  {
   "cell_type": "code",
   "execution_count": null,
   "metadata": {},
   "outputs": [],
   "source": [
    "mySet1 = set(range(10))\n",
    "mySet2 = set(range(5,20))\n",
    " \n",
    "print(mySet1)\n",
    "print(mySet2)\n",
    " \n",
    "#mySet.add(5)  # Elements in a set are unique - the set will not change because it already has a 5\n",
    " \n",
    "print(mySet1.intersection(mySet2))\n",
    "print(mySet1.union(mySet2))"
   ]
  },
  {
   "cell_type": "markdown",
   "metadata": {},
   "source": [
    "The principle of using intersection and union is the same as the Venn diagrams you probably saw in school... You can also make a set out of a string:"
   ]
  },
  {
   "cell_type": "code",
   "execution_count": null,
   "metadata": {},
   "outputs": [],
   "source": [
    "myString = \"This is a sentence.\"\n",
    " \n",
    "myLetters = set(myString)\n",
    " \n",
    "print(myLetters)    # Note that an upper case T and lower case t are not the same!"
   ]
  },
  {
   "cell_type": "markdown",
   "metadata": {},
   "source": [
    "There are more things you can do with sets which we will not go into here, see the [Python sets](https://docs.python.org/3/library/stdtypes.html#types-set) documentation for more information."
   ]
  },
  {
   "cell_type": "code",
   "execution_count": null,
   "metadata": {},
   "outputs": [],
   "source": [
    "# Which letters are shared between the words \"perspicacious\" and \"circumlocution\"?\n",
    "firstWord = \"perspicacious\"\n",
    "secondWord = \"circumlocution\"\n",
    " \n",
    "firstLetterSet = set(firstWord)\n",
    "secondLetterSet = set(secondWord)\n",
    " \n",
    "print(firstLetterSet.intersection(secondLetterSet))"
   ]
  },
  {
   "cell_type": "markdown",
   "metadata": {},
   "source": [
    "## 5.6 Next session\n",
    "\n",
    "Go to our [next chapter](6_Loops.ipynb). "
   ]
  },
  {
   "cell_type": "code",
   "execution_count": null,
   "metadata": {},
   "outputs": [],
   "source": []
  }
 ],
 "metadata": {
  "kernelspec": {
   "display_name": "Python 3",
   "language": "python",
   "name": "python3"
  },
  "language_info": {
   "codemirror_mode": {
    "name": "ipython",
    "version": 3
   },
   "file_extension": ".py",
   "mimetype": "text/x-python",
   "name": "python",
   "nbconvert_exporter": "python",
   "pygments_lexer": "ipython3",
   "version": "3.7.3"
  }
 },
 "nbformat": 4,
 "nbformat_minor": 2
}
