{
 "cells": [
  {
   "cell_type": "markdown",
   "metadata": {},
   "source": [
    "# 2. Variables & operators\n",
    "## 2.1 Introduction\n",
    "Just printing things is not that interesting, what you really want to do with a computer program is manipulate data. This is why variables are so important - they allow you to assign information to a name that you can re-use later on.\n",
    "\n",
    "In this section we will introduce the basic types of variables and how you can manipulate them. Just to get started, we give an overview of the different built-in data types that are present in Python and which you can assign to a variable:\n",
    "- Text type:       `str`\n",
    "- Numeric types:   `int`, `float`, `complex`\n",
    "- Sequence types:  `list`, `tuple`, `range`\n",
    "- Mapping types:   `dict`\n",
    "- Set types:       `set`, `frozenset`\n",
    "- Boolean types:   `bool`\n",
    "- Binary types:    `bytes`, `bytearray`, `memoryview`\n",
    "\n",
    "In this section, we will cover the text type, numeric types (complex are out of scope) and booleans.\n",
    "\n",
    "Operators can be anything from simple additions, substractions, multiplications and divisions (arithmetic) to comparisson operators like equal to, not equal to, greater than, less than, etc. Finally also logical operators are covered in this section.\n",
    "\n",
    "**Note**:  \n",
    "This section doesn't really include any exercises. Try to follow and code along while we scroll through the examples so you start to have a feeling of it.\n",
    "\n",
    "## 2.2 Strings\n",
    "We already saw strings in the previous section. You can assign a string to a variable like this:"
   ]
  },
  {
   "cell_type": "code",
   "execution_count": null,
   "metadata": {},
   "outputs": [],
   "source": [
    "# Assign the sequence AGAATCGATACGA to a variable and print the variable.  \n",
    "mySequence = \"AGAATCGATACGA\"\n",
    "print(mySequence)"
   ]
  },
  {
   "cell_type": "markdown",
   "metadata": {},
   "source": [
    "What happens here is that you assign a **value**: \"*AGAATCGATACGA*\" to a **variable**: `mySequence` and then print it out. You can now keep on using `mySequence` throughout your program. Note that `mySequence` is not quoted because it is now part of the program, try this for example:"
   ]
  },
  {
   "cell_type": "code",
   "execution_count": null,
   "metadata": {},
   "outputs": [],
   "source": [
    "# Repeat the above, but this time put the variable in quotation marks when you put in the print statement and see what happens\n",
    "mySequence = \"AGAATCGATACGA\"\n",
    "print(\"mySequence\")"
   ]
  },
  {
   "cell_type": "markdown",
   "metadata": {},
   "source": [
    "You will now still assign the value \"*AGAATCGATACGA*\" to the variable `mySequence`, but because of the quotes you then print off the string \"mySequence\", not the variable.\n",
    "\n",
    "You can assign strings in the following ways:"
   ]
  },
  {
   "cell_type": "code",
   "execution_count": null,
   "metadata": {},
   "outputs": [],
   "source": [
    "myString1 = \"Hello world!\"\n",
    "myString2 = 'Hello sun!'\n",
    "myString3 = \"\"\"Hello\n",
    "universe.\"\"\"\n",
    "print(myString1)\n",
    "print(myString2)\n",
    "print(myString3)"
   ]
  },
  {
   "cell_type": "markdown",
   "metadata": {},
   "source": [
    "The single and double quotes are essentially the same. If you use triple double quotes \"\"\"you can assign a string over multiple lines."
   ]
  },
  {
   "cell_type": "code",
   "execution_count": null,
   "metadata": {},
   "outputs": [],
   "source": [
    "# Try assigning a string over multiple lines without using the triple double quotes and see what happens.\n",
    "myString = \"Hello\n",
    "universe.\""
   ]
  },
  {
   "cell_type": "markdown",
   "metadata": {},
   "source": [
    "This will give a SyntaxError, as Python 'reads' each line separately, and it doesn't find the ending (on the first line) and starting (on the second line) quote. Using the escape codes, you can however do the following:\n"
   ]
  },
  {
   "cell_type": "code",
   "execution_count": null,
   "metadata": {},
   "outputs": [],
   "source": [
    "# Try to print two words in two different lines without using three \"\" marks. \n",
    "myString = \"Hello\\nuniverse.\"\n",
    "print(myString)"
   ]
  },
  {
   "cell_type": "markdown",
   "metadata": {},
   "source": [
    "## 2.3 Strings from user input\n",
    "Python provides a very simple way to get user input. This input is always returned as a string, so try the following:"
   ]
  },
  {
   "cell_type": "code",
   "execution_count": null,
   "metadata": {},
   "outputs": [],
   "source": [
    "# Use input to ask for a sequence string, then print the input sequence\n",
    "mySequence = input(\"Give me a sequence:\")\n",
    "print(mySequence)"
   ]
  },
  {
   "cell_type": "markdown",
   "metadata": {},
   "source": [
    "## 2.4 Integers\n",
    "Integers are non-decimal numbers. Python will recognize numbers in the code automatically, so you can do:"
   ]
  },
  {
   "cell_type": "code",
   "execution_count": null,
   "metadata": {},
   "outputs": [],
   "source": [
    "# Assign integer 5 to a variable myInteger\n",
    "myInteger = 5\n",
    "print(myInteger)"
   ]
  },
  {
   "cell_type": "markdown",
   "metadata": {},
   "source": [
    "As described in the introduction, you can also do standard mathematical operations on integers. Mathematical operations are even possible within a print statement."
   ]
  },
  {
   "cell_type": "code",
   "execution_count": null,
   "metadata": {},
   "outputs": [],
   "source": [
    "print(5 + 5)  # Addition\n",
    "print(5 - 8)  # Subtraction\n",
    "print(2 * 5)  # Multiplication\n",
    "print(4 / 2)  # Division\n",
    "print(5 % 2)  # Modulus, remainder of division\n",
    "print(2 ** 3) # Power"
   ]
  },
  {
   "cell_type": "markdown",
   "metadata": {},
   "source": [
    "It doesn't matter if you use variables or integers for this:"
   ]
  },
  {
   "cell_type": "code",
   "execution_count": null,
   "metadata": {},
   "outputs": [],
   "source": [
    "x = 5\n",
    "y = 2\n",
    "print(x + 5)  # Addition\n",
    "print(x - 8)  # Subtraction\n",
    "print(y * x)  # Multiplication\n",
    "print(4 / y)  # Division\n",
    "print(5 % y)  # Modulus, remainder of division\n",
    "print(y ** 3) # Power"
   ]
  },
  {
   "cell_type": "markdown",
   "metadata": {},
   "source": [
    "In order to print an integer inside a string, we use the `.format()` statement:"
   ]
  },
  {
   "cell_type": "code",
   "execution_count": null,
   "metadata": {},
   "outputs": [],
   "source": [
    "firstResult = (5 * 4)\n",
    "print(firstResult)\n",
    "print(\"The result of the first calculation is {}.\".format(firstResult))\n",
    "\n",
    "secondResult = (5 * (4 + 3) - 2)\n",
    "print(secondResult)\n",
    "print(\"The result of the second calculation is {}.\".format(secondResult))\n"
   ]
  },
  {
   "cell_type": "markdown",
   "metadata": {},
   "source": [
    "Note here the precedence of operations; * and / take precedence over + and -. You can use () to change the results."
   ]
  },
  {
   "cell_type": "markdown",
   "metadata": {},
   "source": [
    "## 2.5 Floats\n",
    "\n",
    "Floats (floating point numbers) are decimal numbers that behave in the same way as integers, except that they are more accurate"
   ]
  },
  {
   "cell_type": "code",
   "execution_count": null,
   "metadata": {},
   "outputs": [],
   "source": [
    "# Assign float 5.5 to the myFloat variable\n",
    "myFloat = 5.5 \n",
    "print(myFloat)\n",
    "print(type(myFloat))"
   ]
  },
  {
   "cell_type": "markdown",
   "metadata": {},
   "source": [
    "Mathematical operations are the same:"
   ]
  },
  {
   "cell_type": "code",
   "execution_count": null,
   "metadata": {},
   "outputs": [],
   "source": [
    "print(5.2 + 4.8)  # Addition\n",
    "print(5.2 - 8.3)  # Subtraction\n",
    "print(2.0 * 5.11212)  # Multiplication\n",
    "print(4.2 / 2.7)  # Division\n",
    "print(5.4 % 2.0)  # Modulus, remainder of division\n",
    "print(4 ** 0.5) # Power"
   ]
  },
  {
   "cell_type": "markdown",
   "metadata": {},
   "source": [
    "Also floats can be incorporated in a string with the `.format()` statement. You can determine the number of characters before and after the decimal point as well, however we will cover this in the next section. "
   ]
  },
  {
   "cell_type": "code",
   "execution_count": null,
   "metadata": {},
   "outputs": [],
   "source": [
    "myFloat = 4545.4542244\n",
    "print(\"Print the full float {},\\ncut off decimals {:.2f},\\nor determine the characters before the decimal {:10.1f}.\".format(myFloat,myFloat,myFloat))"
   ]
  },
  {
   "cell_type": "markdown",
   "metadata": {},
   "source": [
    "Note here that we put three formatting characters in the string; we then also need three values to print out. "
   ]
  },
  {
   "cell_type": "markdown",
   "metadata": {},
   "source": [
    "## 2.6 Floats, integers and strings  \n",
    "You can also force a conversion between the different value types float, integers and strings with the `str()`, `int()` and `float()` conversions:"
   ]
  },
  {
   "cell_type": "code",
   "execution_count": null,
   "metadata": {},
   "outputs": [],
   "source": [
    "# Use the int() and float() statements to switch the value types and print out the values. Do you notice any differences?\n",
    "myFloat = 4.5\n",
    "print(myFloat)\n",
    "print(int(myFloat))  # Note that it will print the result of the operation; myFloat remains an integer!\n",
    "\n",
    "myInteger = 5\n",
    "print(myInteger)\n",
    "myOtherFloat = float(myInteger)\n",
    "print(myOtherFloat)"
   ]
  },
  {
   "cell_type": "markdown",
   "metadata": {},
   "source": [
    "The same is possible to convert between strings with `str()`, you can also convert strings back to integers and floats but only if the content of the string is an integer or float:"
   ]
  },
  {
   "cell_type": "code",
   "execution_count": null,
   "metadata": {},
   "outputs": [],
   "source": [
    "# Convert a float and an integer to a string with the str() statement \n",
    "myFloat = 4.5\n",
    "myFloatString = str(myFloat)\n",
    "myInteger = 5\n",
    "myIntegerString = str(myInteger)\n",
    "print(\"My strings are {} and {}\".format(myFloatString,myIntegerString))\n",
    "print(\"My string converted to integer is {}\".format(int(myIntegerString)))\n",
    "print(\"My string converted to float is {}\".format(float(myFloatString)))"
   ]
  },
  {
   "cell_type": "markdown",
   "metadata": {},
   "source": [
    "---\n",
    "### 2.6.1 Exercises\n",
    "\n",
    "Write a program where you ask for a number, convert it to an integer, and print out in a formatted string what your number is.\n",
    "\n",
    "---"
   ]
  },
  {
   "cell_type": "code",
   "execution_count": null,
   "metadata": {},
   "outputs": [],
   "source": [
    "myFloatString = input(\"Give me a number:\")\n",
    "myInteger = int(float(myFloatString))\n",
    "print(\"My number in integer form is {}\".format(myInteger))"
   ]
  },
  {
   "cell_type": "markdown",
   "metadata": {},
   "source": [
    "------------------\n",
    "To convert a number to an absolute value, you can use abs():"
   ]
  },
  {
   "cell_type": "code",
   "execution_count": null,
   "metadata": {},
   "outputs": [],
   "source": [
    "myInteger = -6\n",
    "print(myInteger)\n",
    "print(abs(myInteger))"
   ]
  },
  {
   "cell_type": "markdown",
   "metadata": {},
   "source": [
    "You can also add, substract, divide and multiple a variable by a number or other variable directly. These are the so-called assignment operators."
   ]
  },
  {
   "cell_type": "code",
   "execution_count": null,
   "metadata": {},
   "outputs": [],
   "source": [
    "myFloat = 6\n",
    "myString = \"ABC\"\n",
    " \n",
    "myFloat += 5   # Same as myFloat = myFloat + 5\n",
    "print(myFloat)\n",
    " \n",
    "myString += \"DE\"  # Addition works for strings as well\n",
    "print(myString)\n",
    " \n",
    "myFloat -= 5   # Same as myFloat = myFloat - 5\n",
    "print(myFloat)\n",
    " \n",
    "myFloat /= 2   # Same as myFloat = myFloat / 2\n",
    "print(myFloat)\n",
    " \n",
    "myFloat *= 2   # Same as myFloat = myFloat * 2\n",
    "print(myFloat)"
   ]
  },
  {
   "cell_type": "markdown",
   "metadata": {},
   "source": [
    "Finally, you can check what data type a variable is by using `type()`:"
   ]
  },
  {
   "cell_type": "code",
   "execution_count": null,
   "metadata": {},
   "outputs": [],
   "source": [
    "myInteger = -6\n",
    "myFloat = 5.22\n",
    "myString = \"Text!\"\n",
    " \n",
    "print(myInteger, type(myInteger))\n",
    "print(myFloat, type(myFloat))\n",
    "print(myString, type(myString))"
   ]
  },
  {
   "cell_type": "markdown",
   "metadata": {},
   "source": [
    "Note here that you can print multiple values by using a comma in between the values."
   ]
  },
  {
   "cell_type": "markdown",
   "metadata": {},
   "source": [
    "---\n",
    "### 2.6.2 Exercises\n",
    "\n",
    "See what happens if you try to print a float as an integer, and an integer as a string. \n",
    "\n",
    "---"
   ]
  },
  {
   "cell_type": "code",
   "execution_count": null,
   "metadata": {},
   "outputs": [],
   "source": [
    "myFloat = 11.4\n",
    "myIntFloat = int(myFloat)\n",
    "print(\"My float as integer {}\".format(myIntFloat)) \n",
    "#This works\n",
    "\n",
    "myInt  = 12\n",
    "print(\"My integer as string {}\".format(str(myInt)))\n",
    "#This works as well... but:\n",
    "\n",
    "myString = \"aa\"\n",
    "print(\"My string as float {}\".format(float(myString)))\n",
    "#will fail and give a TypeError - Python cannot convert \"aa\" into a float."
   ]
  },
  {
   "cell_type": "markdown",
   "metadata": {},
   "source": [
    "## 2.7 Booleans and None  \n",
    "Finally, there are the booleans `True` and `False`, as well as the nothing value `None`.\n",
    "Python returns booleans when comparing values:"
   ]
  },
  {
   "cell_type": "code",
   "execution_count": null,
   "metadata": {},
   "outputs": [],
   "source": [
    "myInteger = 5\n",
    "myBoolean = True\n",
    "myNothing = None\n",
    "print(myBoolean)\n",
    "print(type(myBoolean))\n",
    "print(myNothing)\n",
    "print(type(myNothing))\n",
    "print(myInteger == 6)   # This means 'is myInteger equal to 6?'\n",
    "print(myInteger < 6)   # This means 'is myInteger smaller than 6?'\n",
    "print(myInteger > 6)   # This means 'is myInteger greater than 6?'\n",
    "print(myInteger <= 6)   # This means 'is myInteger smaller or equal to 6?'\n",
    "print(myInteger >= 6)   # This means 'is myInteger greater or equal to 6?'\n",
    "print(myInteger != 6)   # This means 'is myInteger not equal to 6?'"
   ]
  },
  {
   "cell_type": "markdown",
   "metadata": {},
   "source": [
    "You can also use `is` and `not`:"
   ]
  },
  {
   "cell_type": "code",
   "execution_count": null,
   "metadata": {},
   "outputs": [],
   "source": [
    "myInteger = 5\n",
    "print(myInteger is 6)       # Same as ==\n",
    "print(myInteger is not 6)   # Same as !=\n",
    "print(not myInteger > 6)    # Same as <="
   ]
  },
  {
   "cell_type": "markdown",
   "metadata": {},
   "source": [
    "It is also possible to use logic combinations with `and` and `or`:"
   ]
  },
  {
   "cell_type": "code",
   "execution_count": null,
   "metadata": {},
   "outputs": [],
   "source": [
    "x = 5\n",
    "y = 6\n",
    "print(x == 5 and y > 2)    # Both have to be True for the result to be True\n",
    "print(x != 5 or y > 2)     # Only one has to be True for the result to be True"
   ]
  },
  {
   "cell_type": "markdown",
   "metadata": {},
   "source": [
    "Finally, we highlight the `None` value once more. Python will assume 0 and an empty string \"\" as being `False`:"
   ]
  },
  {
   "cell_type": "code",
   "execution_count": null,
   "metadata": {},
   "outputs": [],
   "source": [
    "print(not True)\n",
    "print(not False)\n",
    "print(not 0)\n",
    "print(not \"\")"
   ]
  },
  {
   "cell_type": "markdown",
   "metadata": {},
   "source": [
    "Really 0 is still an integer, \"\" a string, so `None` is really nothing:"
   ]
  },
  {
   "cell_type": "code",
   "execution_count": null,
   "metadata": {},
   "outputs": [],
   "source": [
    "print(not None)\n",
    "print(0 == None)\n",
    "print(\"\" == None)"
   ]
  },
  {
   "cell_type": "markdown",
   "metadata": {},
   "source": [
    "Next part of the tutorial"
   ]
  },
  {
   "cell_type": "markdown",
   "metadata": {},
   "source": [
    "## 2.8 Next session\n",
    "\n",
    "Go to our [next chapter](3_Print_formatting.ipynb). "
   ]
  }
 ],
 "metadata": {
  "kernelspec": {
   "display_name": "Python 3",
   "language": "python",
   "name": "python3"
  },
  "language_info": {
   "codemirror_mode": {
    "name": "ipython",
    "version": 3
   },
   "file_extension": ".py",
   "mimetype": "text/x-python",
   "name": "python",
   "nbconvert_exporter": "python",
   "pygments_lexer": "ipython3",
   "version": "3.7.3"
  }
 },
 "nbformat": 4,
 "nbformat_minor": 2
}
