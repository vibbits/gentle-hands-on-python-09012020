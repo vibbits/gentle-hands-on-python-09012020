{
 "cells": [
  {
   "cell_type": "markdown",
   "metadata": {},
   "source": [
    "# 11. Modules\n",
    "*using existing code*\n",
    "\n",
    "## 11.1 Introduction\n",
    "\n",
    "So now that we know how to make functions, how can you use them in another program if they're not inside the same file? In Python you can import a function into a file containing your code, even if the code for the function is in another file. The file with a Python function in it, is called a module. A module can also have multiple functions in it. \n",
    "\n",
    "Using code in another file is possible by using **import**. In this way you can import your own functions, but also draw on a very extensive library of functions provided by Python (built-in modules). We will first look at the syntax for imports, then explore the most commonly used Python libraries.\n",
    "\n",
    "## 11.2 How imports work\n",
    "But how exactly do imports work? Let’s say you import a module abc like so:\n",
    "```python\n",
    "import abc\n",
    "```\n",
    "The first thing Python will do is look up the name `abc` in [`sys.modules`](https://docs.python.org/3/library/sys.html#sys.modules). This is a cache of all modules that have been previously imported.\n",
    "\n",
    "If the name isn’t found in the module cache, Python will proceed to search through a list of built-in modules. These are modules that come pre-installed with Python and can be found in the [Python Standard Library](https://docs.python.org/3/library/). If the name still isn’t found in the built-in modules, Python then searches for it in a list of directories defined by [`sys.path`](https://docs.python.org/3/library/sys.html#sys.path). This list usually includes the current directory, which is searched first.\n",
    "\n",
    "When Python finds the module, it binds it to a name in the local scope. This means that `abc` is now defined and can be used in the current file without throwing a `NameError`.\n",
    "\n",
    "If the name is never found, you’ll get a `ModuleNotFoundError`. \n",
    "\n",
    "\n",
    "## 11.3 Import syntax \n",
    "The easiest example is importing a function from within the same directory. Let's create a Python module called 'functions1.py' with the code of the function 'getMeanValue()' that we have written earlier (and you can find here below). \n",
    "\n",
    "**Create a module in Jupyter Lab/Notebook**\n",
    "- In order to create a module in Jupyter Lab, first click on the + symbol on the top left and create a new notebook \n",
    "- Rename the notebook (e.g. 'functions1.ipynb') and copy paste the code in the notebook \n",
    "- Click 'File', 'Export Notebook as' and 'Export Notebook to Executable Script' \n",
    "- Jupyter will not download it in some local folder, make it available in your working directory (in our case in the same directory as we're in right now). \n",
    "\n",
    "Unfortunately, Jupyter Lab/Notebook doesn't have a streamlined & straightforward way of creating Python modules and Python scripts. When you export the notebook, it will always export the whole Notebook and not just a part of it, which makes it very messy if you have a very large notebook. \n"
   ]
  },
  {
   "cell_type": "code",
   "execution_count": null,
   "metadata": {},
   "outputs": [],
   "source": [
    "def getMeanValue(valueList):\n",
    "    \"\"\"\n",
    "    Calculate the mean (average) value from a list of values.\n",
    "    Input: list of integers/floats\n",
    "    Output: mean value\n",
    "    \"\"\"\n",
    "    valueTotal = 0.0\n",
    " \n",
    "    for value in valueList:\n",
    "        valueTotal += value\n",
    "    numberValues = len(valueList)\n",
    "    \n",
    "    return (valueTotal/numberValues)"
   ]
  },
  {
   "cell_type": "markdown",
   "metadata": {},
   "source": [
    "We can now use the module we just created by importing it. In this case where we import the whole 'functions1' file, we can call the function as a method, similar to the methods for lists and strings that we saw earlier:"
   ]
  },
  {
   "cell_type": "code",
   "execution_count": null,
   "metadata": {},
   "outputs": [],
   "source": [
    "import functions1\n",
    "\n",
    "print(functions1.getMeanValue([4,6,77,3,67,54,6,5]))"
   ]
  },
  {
   "cell_type": "markdown",
   "metadata": {},
   "source": [
    "If we were to write code for a huge project, long names can get exhaustive. Programmers will intrinsically make shortcut names for functions they use a lot. Renaming a module is therefore a common thing to do:"
   ]
  },
  {
   "cell_type": "code",
   "execution_count": null,
   "metadata": {},
   "outputs": [],
   "source": [
    "import functions1 as f1\n",
    "\n",
    "print(f1.getMeanValue([4,6,77,3,67,54,6,5]))"
   ]
  },
  {
   "cell_type": "markdown",
   "metadata": {},
   "source": [
    "When importing a file, Python only searches the current directory, the directory that the entry-point script is running from, and sys.path which includes locations such as the package installation directory (it's actually a little more complex than this, but this covers most cases).\n",
    "\n",
    "However, you can specify the Python path yourself as well. Note that a folder 'modules' is already created with a module in it called 'functions2.py'. In that module there are two functions: 'getMeanValue' and 'compareMeanValueOfLists'. "
   ]
  },
  {
   "cell_type": "code",
   "execution_count": null,
   "metadata": {},
   "outputs": [],
   "source": [
    "from modules import functions2\n",
    "\n",
    "print(functions2.getMeanValue([4,6,77,3,67,54,6,5]))"
   ]
  },
  {
   "cell_type": "code",
   "execution_count": null,
   "metadata": {},
   "outputs": [],
   "source": [
    "from modules import functions2 as f2\n",
    "\n",
    "print(f2.getMeanValue([4,6,77,3,67,54,6,5]))"
   ]
  },
  {
   "cell_type": "markdown",
   "metadata": {},
   "source": [
    "Another way of writing this is with an absolute path to the module. You can explicitly import a specific function from a module."
   ]
  },
  {
   "cell_type": "code",
   "execution_count": null,
   "metadata": {},
   "outputs": [],
   "source": [
    "from modules.functions2 import compareMeanValueOfLists\n",
    "\n",
    "print(compareMeanValueOfLists([1,2,3,4,5,6,7], [4,6,77,3,67,54,6,5]))"
   ]
  },
  {
   "cell_type": "markdown",
   "metadata": {},
   "source": [
    "So here we *import* the function compareMeanValueOfLists (without brackets!) from the file *functions2* (without .py extension!).\n",
    "\n"
   ]
  },
  {
   "cell_type": "markdown",
   "metadata": {},
   "source": [
    "## 11.3 Built-in Modules\n",
    "\n",
    "There are several built-in modules in Python, which you can import whenever you like.\n",
    "\n",
    "Python has many ready-to-use functions that can save you a lot of time when writing code. The most common ones are **time**, **sys**, **os/os.path** and **re**.\n",
    "\n",
    "### 11.3.1 `time`\n",
    "With **time** you can get information on the current time and date, ...:"
   ]
  },
  {
   "cell_type": "code",
   "execution_count": null,
   "metadata": {},
   "outputs": [],
   "source": [
    "import time\n",
    "\n",
    "print(time.ctime())  # Print current day and time\n",
    "print(time.time())   # Print system clock time\n",
    "time.sleep(10)       # Sleep for 5 seconds - the program will wait here"
   ]
  },
  {
   "cell_type": "markdown",
   "metadata": {},
   "source": [
    "See the [Python documentation](https://docs.python.org/3/library/time.html) for a full description of time. Also see [datetime](https://docs.python.org/3/library/datetime.html), which is a module to deal with date/time manipulations.\n"
   ]
  },
  {
   "cell_type": "markdown",
   "metadata": {},
   "source": [
    "### 11.3.2 `sys`\n",
    "gives you system-specific parameters and functions:"
   ]
  },
  {
   "cell_type": "code",
   "execution_count": null,
   "metadata": {},
   "outputs": [],
   "source": [
    "import sys\n",
    " \n",
    "print(sys.argv)     # A list of parameters that are given when calling this script \n",
    "                    # from the command line (e.g. ''python myScript a b c'')\n",
    "print(sys.platform) # The platform the code is currently running on\n",
    "print(sys.path)     # The directories where Python will look for things to import\n",
    "\n",
    "help(sys.exit)          # Exit the code immediately"
   ]
  },
  {
   "cell_type": "markdown",
   "metadata": {},
   "source": [
    "See the [Python documentation](https://docs.python.org/3/library/sys.html) for a full description."
   ]
  },
  {
   "cell_type": "markdown",
   "metadata": {},
   "source": [
    "### 11.3.3 `os` and `os.path` \n",
    "are very useful when dealing with files and directories:\n"
   ]
  },
  {
   "cell_type": "code",
   "execution_count": null,
   "metadata": {},
   "outputs": [],
   "source": [
    "import os\n",
    " \n",
    "# Get the current working directory (cwd)\n",
    "currentDir = os.getcwd()\n",
    "print(currentDir)\n",
    "\n",
    "# Get a list of the files in the current working directory    \n",
    "myFiles = os.listdir(currentDir)\n",
    "print(myFiles)\n",
    "\n",
    "# Create a directory, rename it, and remove it\n",
    "os.mkdir(\"myTempDir\")\n",
    "os.rename(\"myTempDir\",\"myNewTempDir\")\n",
    "os.removedirs(\"myNewTempDir\")\n",
    "\n",
    "# Create a full path name to the functions2 module in the modules folder\n",
    "myFileFullPath = os.path.join(currentDir,'modules','functions2.py')\n",
    "print(myFileFullPath)\n",
    "\n",
    "# Does this file exist?\n",
    "print(os.path.exists(myFileFullPath))\n",
    "\n",
    "# How big is the file?\n",
    "print(os.path.getsize(myFileFullPath))\n",
    "\n",
    "# Split the directory path from the file name\n",
    "(myDir,myFileName) = os.path.split(myFileFullPath)\n",
    "print(myDir, myFileName)"
   ]
  },
  {
   "cell_type": "markdown",
   "metadata": {},
   "source": [
    "See the Python documentation for [**os**](https://docs.python.org/3/library/os.html) and [**os.path**](https://docs.python.org/3/library/os.path.html) for a full description."
   ]
  },
  {
   "cell_type": "markdown",
   "metadata": {},
   "source": [
    "### 11.3.4 `re`\n",
    "\n",
    "A library that is very powerful for dealing with strings is **re**. It allows you to use regular expressions to examine text - using these is a course in itself, so just consider this simple example:"
   ]
  },
  {
   "cell_type": "code",
   "execution_count": null,
   "metadata": {},
   "outputs": [],
   "source": [
    "import re\n",
    "\n",
    "myText = \"\"\"Call me Ishmael. Some years ago - never mind how long precisely -\n",
    "having little or no money in my purse, and nothing particular to interest me on \n",
    "shore, I thought I would sail about a little and see the watery part of the \n",
    "world.\"\"\"\n",
    "\n",
    "# Compile a regular expression, \n",
    "myPattern = re.compile(\"(w\\w+d)\")    # Look for the first word that starts with a w,\n",
    "                                     # is followed by 1 or more characters (\\w+)\n",
    "                                     # and ends in a d\n",
    "\n",
    "mySearch = myPattern.search(myText)\n",
    "\n",
    "# mySearch will be None if nothing was found\n",
    "if mySearch:\n",
    "    print(mySearch.groups())"
   ]
  },
  {
   "cell_type": "markdown",
   "metadata": {},
   "source": [
    "See the full [Python documentation](https://docs.python.org/3/library/re.html) on regular expressions for more information."
   ]
  },
  {
   "cell_type": "markdown",
   "metadata": {},
   "source": [
    "## 11.4 Putting everything together"
   ]
  },
  {
   "cell_type": "markdown",
   "metadata": {},
   "source": [
    "\n",
    "---\n",
    "### 11.4.1 Exercises\n",
    "\n",
    "Make a new directory in which you write out 5 files with a 2 second delay. Each file should contain the date and time when it was originally written out.\n",
    "\n",
    "---\n"
   ]
  },
  {
   "cell_type": "code",
   "execution_count": null,
   "metadata": {},
   "outputs": [],
   "source": []
  },
  {
   "cell_type": "markdown",
   "metadata": {},
   "source": [
    "---\n",
    "### 11.4.2 Exercises\n",
    "\n",
    "Write a function to read in a FASTA file with an RNA sequence and return the RNA sequence (in 3 base unit chunks).\n",
    "\n",
    "---"
   ]
  },
  {
   "cell_type": "code",
   "execution_count": null,
   "metadata": {},
   "outputs": [],
   "source": []
  },
  {
   "cell_type": "markdown",
   "metadata": {},
   "source": [
    "---\n",
    "### 11.4.3 Exercises\n",
    "\n",
    "Write a program where you ask the user for a one-letter amino acid sequence, and print out the three-letter amino acid codes. Download the dictionary from section 8.2 and save it as a module named SequenceDicts.py first.\n",
    "\n",
    "---"
   ]
  },
  {
   "cell_type": "code",
   "execution_count": null,
   "metadata": {},
   "outputs": [],
   "source": []
  },
  {
   "cell_type": "markdown",
   "metadata": {},
   "source": [
    "---\n",
    "### 11.4.4 Exercises\n",
    "\n",
    "Write a program where you translate the RNA sequence `data/rnaSeq.txt` into 3 letter amino acid codes. Use the dictionary from section 8.2 (called myDictionary) and save it as a module named SequenceDicts.py first. You can use the `readFasta.py` module from the modules folder. \n",
    "\n",
    "---"
   ]
  },
  {
   "cell_type": "code",
   "execution_count": null,
   "metadata": {},
   "outputs": [],
   "source": []
  },
  {
   "cell_type": "markdown",
   "metadata": {},
   "source": [
    "---\n",
    "### 11.4.5 Exercises\n",
    "\n",
    "Write a program that:\n",
    "- Has a function `readSampleInformationFile()` to read the information from this sample data file into a dictionary. Also check whether the file exists.\n",
    "- Has a function `getSampleIdsForValueRange()` that can extract sample IDs from this dictionary. Print the sample IDs for pH 6.0-7.0, temperature 280-290 and volume 200-220 using this function.\n",
    "\n",
    "---\n"
   ]
  },
  {
   "cell_type": "code",
   "execution_count": null,
   "metadata": {},
   "outputs": [],
   "source": []
  },
  {
   "cell_type": "markdown",
   "metadata": {},
   "source": [
    "Go to the next part of the tutorial"
   ]
  },
  {
   "cell_type": "markdown",
   "metadata": {},
   "source": [
    "## 11.5 The end\n",
    "\n",
    "Or not? Go to our [next chapter](extra-course-parts/12_Asserts_Try_Except.ipynb). "
   ]
  }
 ],
 "metadata": {
  "kernelspec": {
   "display_name": "Python 3",
   "language": "python",
   "name": "python3"
  },
  "language_info": {
   "codemirror_mode": {
    "name": "ipython",
    "version": 3
   },
   "file_extension": ".py",
   "mimetype": "text/x-python",
   "name": "python",
   "nbconvert_exporter": "python",
   "pygments_lexer": "ipython3",
   "version": "3.7.3"
  }
 },
 "nbformat": 4,
 "nbformat_minor": 2
}
