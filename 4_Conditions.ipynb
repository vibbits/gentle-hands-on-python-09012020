{
 "cells": [
  {
   "cell_type": "markdown",
   "metadata": {},
   "source": [
    "## 4. Conditions\n",
    "*Decide what to do based on x and y*.\n",
    "\n",
    "### 4.1 Introduction\n",
    "Programs start to become more interesting if you can do different things depending on the input. For this, you have to use *conditions*, which we will discuss in this section. \n",
    "\n",
    "Decisions will be taken based on a condition. In this perspective, we highlight the booleans **True** and **False**, as well as the **None**-keyword once more."
   ]
  },
  {
   "cell_type": "markdown",
   "metadata": {},
   "source": [
    "## 4.2 If statement\n",
    "\n",
    "The **if** condition allows you to only execute a bit of code if a (set of) condition(s) is satisfied. Python syntax requires that you put a colon : after the **if**, and that the *block* of code that is conditional is *indented* with the same amount of spaces (or tabs). Python doesn't really care about the number of spaces or tabs, as long as you're consistent. Jupyter notebook uses tabs, hence it is best to follow along. Now try this:"
   ]
  },
  {
   "cell_type": "code",
   "execution_count": null,
   "metadata": {},
   "outputs": [],
   "source": [
    "x = 5\n",
    " \n",
    "if x == 5:\n",
    "    print(\"x is five!\")\n",
    "\n",
    "if x!=5:\n",
    "    print(\"x is not five!\")"
   ]
  },
  {
   "cell_type": "markdown",
   "metadata": {},
   "source": [
    "you will see that only the block of code under x == 5 is printed out. You can of course make the conditions more complex and combine them with **and** and **or**:\n"
   ]
  },
  {
   "cell_type": "code",
   "execution_count": null,
   "metadata": {},
   "outputs": [],
   "source": [
    "x = 5\n",
    "y = 10\n",
    " \n",
    "if (y / x) == 2:\n",
    "    print(\"y divided by x is 2!\")\n",
    "\n",
    "if y == 10 or x == 2:\n",
    "    print(\"x is two or y is ten\")\n",
    "    \n",
    "if y == 10 and x == 2:\n",
    "    print(\"x is two and y is ten\")\n",
    "\n",
    "print(\"The end\")"
   ]
  },
  {
   "cell_type": "markdown",
   "metadata": {},
   "source": [
    "Here you see that the blocks for the first two conditions (which are True) are executed, but not the third. The last line of code is always printed off - it's on the same level as the start of the code, and not conditional.\n",
    "\n",
    "## 4.3 Indentation\n",
    "Python relies on indentation (whitespace at the beginning of a line) to define scope in the code. Other programming languages often use (curly) brackets for this purpose. The level of indentation is crucial, and Python will immediately give an error if there are inconsistent levels of indentation in the code. Try this:"
   ]
  },
  {
   "cell_type": "code",
   "execution_count": null,
   "metadata": {},
   "outputs": [],
   "source": [
    "x = 5\n",
    "y = 10\n",
    " \n",
    "if (y / x) == 2:\n",
    "  print(\"y divided by x is 2!\")\n",
    "   print (\"And x is {}!\".format(x))"
   ]
  },
  {
   "cell_type": "markdown",
   "metadata": {},
   "source": [
    "Note that this can also happen if you start mixing space and tab characters!\n"
   ]
  },
  {
   "cell_type": "markdown",
   "metadata": {},
   "source": [
    "\n",
    "---\n",
    "### 4.3.1 Exercise\n",
    "\n",
    "Write a program where you ask the user for x and y, make sure that y is not zero, and print out x/y. \n",
    "\n",
    "---\n"
   ]
  },
  {
   "cell_type": "code",
   "execution_count": null,
   "metadata": {},
   "outputs": [],
   "source": [
    "# Write a program where you ask the user for x and y, make sure that y is not zero, and print out x/y. \n",
    "\n",
    "xString = input(\"Give a number: \")\n",
    "yString = input(\"Give another number that is not zero: \")\n",
    "\n",
    "x = float(xString)\n",
    "y = float(yString)\n",
    "\n",
    "if y == 0:\n",
    "    print(\"Error, you're y-number is 0\")\n",
    "if y != 0:\n",
    "    result = x/y\n",
    "    print(\"x divided by y = {:.2f}\".format(result))"
   ]
  },
  {
   "cell_type": "markdown",
   "metadata": {},
   "source": [
    "## 4.4 Elif statement \n",
    "\n",
    "Once you have an **if**-condition, you can directly follow it up with an **elif** (else if) condition. This is not the same as another **if**-statement. An **elif** is only executed if the previous if (and other preceding elifs) are not True. In the example below the code in section 4.3 is adapted. Now all if-statements are changed by elifs."
   ]
  },
  {
   "cell_type": "code",
   "execution_count": null,
   "metadata": {},
   "outputs": [],
   "source": [
    "x = 5\n",
    "y = 10\n",
    " \n",
    "if (y / x) == 2:\n",
    "    print(\"y divided by x is 2!\")\n",
    "elif y == 10 or x == 2:\n",
    "    print(\"x is two or y is ten\")\n",
    "elif y == 10 and x == 2:\n",
    "    print(\"x is two and y is ten\")\n",
    "\n",
    "print(\"The end\")"
   ]
  },
  {
   "cell_type": "markdown",
   "metadata": {},
   "source": [
    "Now only the code under the first condition is executed, not the second (the third is not True and is in any case irrelevant). If we switch the conditions around a bit:\n",
    "\n"
   ]
  },
  {
   "cell_type": "code",
   "execution_count": null,
   "metadata": {},
   "outputs": [],
   "source": [
    "x = 5\n",
    "y = 10\n",
    " \n",
    "if y == 10 and x == 2:\n",
    "    print(\"x is two and y is ten\")\n",
    "elif y == 10 or x == 2:\n",
    "    print(\"x is two or y is ten\")\n",
    "elif (y / x) == 2:\n",
    "    print(\"y divided by x is 2!\")\n",
    "\n",
    "print(\"The end\")"
   ]
  },
  {
   "cell_type": "markdown",
   "metadata": {},
   "source": [
    "The first condition is not True, so the second is evaluated. This one is True, so it is executed, and the text 'x is two or y is ten' is printed. For clarity it is often useful to leave some space before and after the (set of) condition(s) - it makes the code easier to 'read' afterwards.\n",
    "\n"
   ]
  },
  {
   "cell_type": "markdown",
   "metadata": {},
   "source": [
    "\n",
    "---\n",
    "### 4.4.1 Exercise\n",
    "\n",
    "Write a program where you ask the user for two words. Compare the words; if they are the same, print a message, if the first or second word is 'Stop', then also print a message. \n",
    "\n",
    "---\n"
   ]
  },
  {
   "cell_type": "code",
   "execution_count": null,
   "metadata": {},
   "outputs": [],
   "source": [
    "# Write a program where you ask the user for two words. Compare the words; if they are the same, print a message, if the first or second word is 'Stop', then also print a message.\n",
    "print(\"Give two words.\")\n",
    "firstWord = input(\"Write a word: \")\n",
    "secondWord = input(\"Write another word: \")\n",
    "\n",
    "if firstWord == secondWord:\n",
    "    print(\"These words are the same\")\n",
    "elif firstWord ==\"Stop\" or secondWord == \"Stop\":\n",
    "    print(\"You're word was Stop, hence we stopped here\")\n",
    "\n",
    "print(\"The end\")"
   ]
  },
  {
   "cell_type": "markdown",
   "metadata": {},
   "source": [
    "## 4.5 Else statement\n",
    "You can also end an **if** (with or without **elif**s) with an **else** condition. The block of code following else is only executed if the previous (set of) conditions are all False. Try this:\n",
    "\n"
   ]
  },
  {
   "cell_type": "code",
   "execution_count": null,
   "metadata": {},
   "outputs": [],
   "source": [
    "x = 7\n",
    " \n",
    "if not (x % 2):\n",
    "    print(\"x is divisible by two!\")\n",
    "elif not (x % 3):\n",
    "    print(\"x is divisible by three!\")\n",
    "else:\n",
    "    print(\"x is not divisible by two...\")\n",
    "\n",
    "print (\"x is {}\".format(x))"
   ]
  },
  {
   "cell_type": "markdown",
   "metadata": {},
   "source": [
    "You can modify the value of x a bit to see what else can happen. Can you spot a problem with this example? What will happen if x can be divided by both two and three? What can you do to solve this problem?"
   ]
  },
  {
   "cell_type": "markdown",
   "metadata": {},
   "source": [
    "\n",
    "---\n",
    "### 4.5.1 Exercise\n",
    "\n",
    "Modify the code above so it prints that it is divisible by two and three when this is the case.\n",
    "\n",
    "---"
   ]
  },
  {
   "cell_type": "code",
   "execution_count": null,
   "metadata": {},
   "outputs": [],
   "source": [
    "# If a value can be divided by two and three, only the block of code under the first condition will be executed, so you will not find out whether your value can be divided by three! There are several solutions to this, for example:\n",
    "x = 12\n",
    " \n",
    "if not (x % 2):\n",
    "    print(\"x is divisible by two!\")\n",
    "    if not (x % 3):\n",
    "        print(\"x is divisible by three!\")\n",
    "elif not (x % 3):\n",
    "    print(\"x is divisible by three!\")\n",
    "else:\n",
    "    print(\"x is not divisible by two or three...\")\n",
    "\n",
    "print (\"x is {}\".format(x))\n",
    "\n",
    "# This is not a very elegant solution however, as you are repeating the same bit of code twice to find out whether the value can be divided by three. This one might be slightly better:\n",
    "x = 12\n",
    " \n",
    "if not (x % 2):\n",
    "    print(\"x is divisible by two!\")\n",
    "\n",
    "if not (x % 3):\n",
    "    print(\"x is divisible by three!\")\n",
    "\n",
    "if (x % 2) and (x % 3):\n",
    "    print(\"x is not divisible by two or three...\")\n",
    "\n",
    "print (\"x is {}\".format(x))\n",
    "\n",
    "# However you still have to repeat the conditions, which would become very tedious (and error-prone) if you were to try division by many values. The next example is a bit more verbose but cleaner and more 'extendable' for other values:\n",
    "x = 12\n",
    "xDivisible = False\n",
    " \n",
    "if not (x % 2):\n",
    "    print(\"x is divisible by two!\")\n",
    "    xDivisible = True\n",
    "\n",
    "if not (x % 3):\n",
    "    print(\"x is divisible by three!\")\n",
    "    xDivisible = True\n",
    "\n",
    "if not xDivisible:\n",
    "    print(\"x is not divisible by two or three...\")\n",
    "\n",
    "print (\"x is {}\".format(x))\n"
   ]
  },
  {
   "cell_type": "markdown",
   "metadata": {},
   "source": [
    "## 4.6 The None variable \n",
    "\n",
    "Finally, there is also a **None** data type, which is really nothing. The None keyword is used to define a null value, or no value at all. None is not the same as 0, False, or an empty string. In comparisons Python will assume 0 and an empty string \"\" as being False in logic terms. \n",
    "So None is really a datatype on its own. \n"
   ]
  },
  {
   "cell_type": "code",
   "execution_count": null,
   "metadata": {},
   "outputs": [],
   "source": [
    "print(not True)\n",
    "print(not False)\n",
    "print(not 0)\n",
    "print(not \"\")"
   ]
  },
  {
   "cell_type": "markdown",
   "metadata": {},
   "source": [
    "Really 0 is still an integer, \"\" a string, so None is really nothing:\n",
    "\n"
   ]
  },
  {
   "cell_type": "code",
   "execution_count": null,
   "metadata": {},
   "outputs": [],
   "source": [
    "print(not None)\n",
    "print(0 == None)\n",
    "print(\"\" == None)\n",
    " \n",
    "# Also try this:\n",
    "if None:\n",
    "    print(\"Hello1\")\n",
    "\n",
    "if \"\":\n",
    "    print(\"Hello2\")\n",
    "\n",
    "if 0:\n",
    "    print(\"Hello3\")\n",
    "\n",
    "if \"\" != None:\n",
    "    print(\"Hello4\")"
   ]
  },
  {
   "cell_type": "markdown",
   "metadata": {},
   "source": [
    "## 4.7 Next session\n",
    "\n",
    "Go to our [next chapter](5_Lists_Tuples_Sets.ipynb). "
   ]
  }
 ],
 "metadata": {
  "kernelspec": {
   "display_name": "Python 3",
   "language": "python",
   "name": "python3"
  },
  "language_info": {
   "codemirror_mode": {
    "name": "ipython",
    "version": 3
   },
   "file_extension": ".py",
   "mimetype": "text/x-python",
   "name": "python",
   "nbconvert_exporter": "python",
   "pygments_lexer": "ipython3",
   "version": "3.7.3"
  }
 },
 "nbformat": 4,
 "nbformat_minor": 2
}
