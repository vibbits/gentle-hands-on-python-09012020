{
 "cells": [
  {
   "cell_type": "markdown",
   "metadata": {},
   "source": [
    "# 6. Loops\n",
    "*Do the same thing over and over again*\n",
    "\n",
    "## 6.1 Introduction\n",
    "\n",
    "Another important feature of computer programs is that they can do the same thing over and over again with different information. To allow this, it is possible to use loops in the program; essentially a loop is executed until it runs out of data or the code decides to break out of it.\n",
    "\n",
    "\n",
    "\n",
    "## 6.2 For loop\n",
    "Now that we have these variables that can hold multiple elements (previous exercise), it would be useful to be able to loop over them one by one. This is possible with the **for** loop:\n",
    "\n"
   ]
  },
  {
   "cell_type": "code",
   "execution_count": 1,
   "metadata": {},
   "outputs": [
    {
     "name": "stdout",
     "output_type": "stream",
     "text": [
      "Counting 0\n",
      "Counting 1\n",
      "Counting 2\n",
      "Counting 3\n",
      "Counting 4\n",
      "Counting 5\n",
      "Counting 6\n",
      "Counting 7\n",
      "Counting 8\n",
      "Counting 9\n"
     ]
    }
   ],
   "source": [
    "myList = range(10)\n",
    " \n",
    "for myElement in myList:\n",
    "    print(\"Counting {}\".format(myElement))"
   ]
  },
  {
   "cell_type": "markdown",
   "metadata": {},
   "source": [
    "Note that again we have to use indentation, as there is a block of code that is only relevant within the for loop.\n",
    "\n",
    "The **for** loop works exactly the same with tuples:"
   ]
  },
  {
   "cell_type": "code",
   "execution_count": 2,
   "metadata": {},
   "outputs": [
    {
     "name": "stdout",
     "output_type": "stream",
     "text": [
      "Letter A\n",
      "Letter B\n",
      "Letter C\n",
      "Letter D\n",
      "Letter E\n",
      "Letter F\n"
     ]
    }
   ],
   "source": [
    "myTuple = (\"A\",\"B\",\"C\",\"D\",\"E\",\"F\")\n",
    " \n",
    "for myElement in myTuple:\n",
    "    print(\"Letter {}\".format(myElement))"
   ]
  },
  {
   "cell_type": "markdown",
   "metadata": {},
   "source": [
    "Because you can access individual elements within a list or tuple, you can also count the element index in the list or tuple, so that you know both index and value."
   ]
  },
  {
   "cell_type": "code",
   "execution_count": 3,
   "metadata": {},
   "outputs": [
    {
     "name": "stdout",
     "output_type": "stream",
     "text": [
      "Letter A is at position 1\n",
      "Letter B is at position 2\n",
      "Letter C is at position 3\n",
      "Letter D is at position 4\n",
      "Letter E is at position 5\n",
      "Letter F is at position 6\n"
     ]
    }
   ],
   "source": [
    "myTuple = (\"A\",\"B\",\"C\",\"D\",\"E\",\"F\")\n",
    "myTupleLength = len(myTuple)\n",
    " \n",
    "for tupleIndex in range(myTupleLength):\n",
    "    myElement = myTuple[tupleIndex]\n",
    "    print(\"Letter {} is at position {}\".format(myElement,tupleIndex + 1))  # We have to add 1 to the index here because Python starts at zero..."
   ]
  },
  {
   "cell_type": "markdown",
   "metadata": {},
   "source": [
    "If we now return to the example where we want to find out if a number is divisible by another, it becomes much easier to test a large set of values:\n"
   ]
  },
  {
   "cell_type": "code",
   "execution_count": 4,
   "metadata": {},
   "outputs": [
    {
     "name": "stdout",
     "output_type": "stream",
     "text": [
      "Number 17 can be divided by 17!\n",
      "Number 34 can be divided by 17!\n",
      "Number 51 can be divided by 17!\n",
      "Number 68 can be divided by 17!\n",
      "Number 85 can be divided by 17!\n",
      "Number 102 can be divided by 17!\n",
      "Number 119 can be divided by 17!\n",
      "Number 136 can be divided by 17!\n",
      "Number 153 can be divided by 17!\n",
      "Number 170 can be divided by 17!\n",
      "Number 187 can be divided by 17!\n",
      "Number 204 can be divided by 17!\n",
      "Number 221 can be divided by 17!\n",
      "Number 238 can be divided by 17!\n",
      "Number 255 can be divided by 17!\n",
      "Number 272 can be divided by 17!\n",
      "Number 289 can be divided by 17!\n",
      "Number 306 can be divided by 17!\n",
      "Number 323 can be divided by 17!\n",
      "Number 340 can be divided by 17!\n",
      "Number 357 can be divided by 17!\n",
      "Number 374 can be divided by 17!\n",
      "Number 391 can be divided by 17!\n",
      "Number 408 can be divided by 17!\n",
      "Number 425 can be divided by 17!\n",
      "Number 442 can be divided by 17!\n",
      "Number 459 can be divided by 17!\n",
      "Number 476 can be divided by 17!\n",
      "Number 493 can be divided by 17!\n"
     ]
    }
   ],
   "source": [
    "myNumbers = range(1,501)\n",
    "myDivider = 17\n",
    " \n",
    "for myNumber in myNumbers:\n",
    "    if not (myNumber % myDivider):  # Nothing left after division, so number is divisible.\n",
    "        print(\"Number {} can be divided by {}!\".format(myNumber,myDivider))"
   ]
  },
  {
   "cell_type": "markdown",
   "metadata": {},
   "source": [
    "Here we now have two levels of code besides the main one; the **if** is checked for every value, but the print is only executed for numbers divisible by myDivider.\n",
    "\n",
    "\n",
    "You can also control the loop by using **continue** and **break**. They alter the flow of a normal loop:"
   ]
  },
  {
   "cell_type": "code",
   "execution_count": 25,
   "metadata": {},
   "outputs": [
    {
     "name": "stdout",
     "output_type": "stream",
     "text": [
      "1\n",
      "2\n",
      "3\n",
      "4\n",
      "6\n",
      "7\n",
      "8\n"
     ]
    }
   ],
   "source": [
    "myNumbers = range(1,100)\n",
    " \n",
    "for myNumber in myNumbers:\n",
    "    if myNumber == 5:   \n",
    "        continue     # This means that the code within the for loop will be ignored if myNumber is equal to 5, we 'jump back' to the start and use the next number (6)\n",
    "    print(myNumber)\n",
    "\n",
    "    if myNumber == 8:\n",
    "        break        # This means we will exit the loop alltogether, all other values after this one will not be dealt with.\n"
   ]
  },
  {
   "cell_type": "markdown",
   "metadata": {},
   "source": [
    "---\n",
    "### 6.2.1 Exercise\n",
    "\n",
    "Write a program where you print out all positive numbers up to 1000 that can be divided by 13, or 17, or both. \n",
    "The output should be printed as : `Number 13 is divisible by [13]`. \n",
    "If you want a little more challenge, the output should be printed as `Number 884 is divisible by 13, 17`\n",
    "\n",
    "---"
   ]
  },
  {
   "cell_type": "code",
   "execution_count": 46,
   "metadata": {
    "scrolled": false
   },
   "outputs": [
    {
     "name": "stdout",
     "output_type": "stream",
     "text": [
      "Number 13 is divisible by [13]\n",
      "Number 17 is divisible by [17]\n",
      "Number 26 is divisible by [13]\n",
      "Number 34 is divisible by [17]\n",
      "Number 39 is divisible by [13]\n",
      "Number 51 is divisible by [17]\n",
      "Number 52 is divisible by [13]\n",
      "Number 65 is divisible by [13]\n",
      "Number 68 is divisible by [17]\n",
      "Number 78 is divisible by [13]\n",
      "Number 85 is divisible by [17]\n",
      "Number 91 is divisible by [13]\n"
     ]
    }
   ],
   "source": [
    "# Write a program where you print out all positive numbers up to 1000 that can be divided by 13, or 17, or both.\n",
    "myNumbers = range(1,100) # should be 1001\n",
    "myDividers = (13,17)    # We will loop over these in the loop itself, so it's easy to add new numbers to this\n",
    " \n",
    "for myNumber in myNumbers:\n",
    "    validDividers = []     # In this list we will put all the valid dividers\n",
    "    for myDivider in myDividers:\n",
    "        if not (myNumber % myDivider):\n",
    "              validDividers.append(myDivider)\n",
    "    if validDividers:      # This means that the list has to have values in it\n",
    "        print(\"Number {} is divisible by {}\".format(myNumber,validDividers))       \n"
   ]
  },
  {
   "cell_type": "code",
   "execution_count": 47,
   "metadata": {},
   "outputs": [
    {
     "name": "stdout",
     "output_type": "stream",
     "text": [
      "Number 13 is divisible by 13\n",
      "Number 17 is divisible by 17\n",
      "Number 26 is divisible by 13\n",
      "Number 34 is divisible by 17\n",
      "Number 39 is divisible by 13\n",
      "Number 51 is divisible by 17\n",
      "Number 52 is divisible by 13\n",
      "Number 65 is divisible by 13\n",
      "Number 68 is divisible by 17\n",
      "Number 78 is divisible by 13\n",
      "Number 85 is divisible by 17\n",
      "Number 91 is divisible by 13\n"
     ]
    }
   ],
   "source": [
    "# Extra: The output is not very nice here as you print off the list with the square brackets, you could try the following bit of code under the if validDividers: condition:\n",
    "myNumbers = range(1,100) #should be 1001\n",
    "myDividers = (13,17)    # We will loop over these in the loop itself, so it's easy to add new numbers to this\n",
    " \n",
    "for myNumber in myNumbers:\n",
    "    validDividers = []     # In this list we will put all the valid dividers\n",
    "    for myDivider in myDividers:\n",
    "        if not (myNumber % myDivider):\n",
    "              validDividers.append(myDivider)\n",
    "    if validDividers:      # This means that the list has to have values in it\n",
    "        # First make strings out of the integers; this is valid Python syntax where you make a list out of a list    \n",
    "        validDividerStrings = [\"{}\".format(validDivider) for validDivider in validDividers]\n",
    "\n",
    "        # Now you can join the elements of a list (if they are strings) together using the .join() method for a string:\n",
    "        validDividerString = ', '.join(validDividerStrings)\n",
    " \n",
    "        print(\"Number {} is divisible by {}\".format(myNumber,validDividerString))\n",
    "    \n",
    "    ######### Or as an alternative for the nice printing:\n",
    "        #if len(validDividers) == 1:\n",
    "        #    print(\"number is div by {}\".format(validDividers[0]))\n",
    "        #elif len(validDividers) == 2:\n",
    "        #    print(\"number x is div by {}, {}\".format(validDividers[0],validDividers[1]))\n"
   ]
  },
  {
   "cell_type": "markdown",
   "metadata": {},
   "source": [
    "---\n",
    "### 6.2.1 Exercise\n",
    "\n",
    "Write a program where you find, for each positive number up to 50, all numbers that can divide each number. E.g. 16 can be divided by 1, 2, 4, 8 and 16. 17 can be divided by... \n",
    "\n",
    "It's fine if you print the output like this: \n",
    "```\n",
    "Number 1 can be divided by 1!\n",
    "Number 2 can be divided by 1!\n",
    "Number 2 can be divided by 2!\n",
    "Number 3 can be divided by 1!\n",
    "```\n",
    "However, you can also try to print the output like this:\n",
    "```\n",
    "Number 4 can be divided by 1, 2, 4!\n",
    "```\n",
    "\n",
    "---"
   ]
  },
  {
   "cell_type": "code",
   "execution_count": 11,
   "metadata": {},
   "outputs": [
    {
     "name": "stdout",
     "output_type": "stream",
     "text": [
      "Number 1 can be divided by 1!\n",
      "Number 2 can be divided by 1!\n",
      "Number 2 can be divided by 2!\n",
      "Number 3 can be divided by 1!\n",
      "Number 3 can be divided by 3!\n",
      "Number 4 can be divided by 1!\n",
      "Number 4 can be divided by 2!\n",
      "Number 4 can be divided by 4!\n"
     ]
    }
   ],
   "source": [
    "# Write a program where you find, for each positive number up to 50, all numbers that can divide each number. E.g. 16 can be divided by 1, 2, 4, 8 and 16. 17 can be divided by...\n",
    "myNumbers = range(1,5) #should be 51\n",
    " \n",
    "for x in myNumbers:\n",
    "    dividers = []\n",
    "    for y in range(1,x+1):\n",
    "        if not (x % y):\n",
    "            dividers.append(y)\n",
    " \n",
    "    for divider in dividers:\n",
    "        print (\"Number {} can be divided by {}!\".format(x,divider))"
   ]
  },
  {
   "cell_type": "code",
   "execution_count": 12,
   "metadata": {},
   "outputs": [
    {
     "name": "stdout",
     "output_type": "stream",
     "text": [
      "Number 1 can be divided by 1!\n",
      "Number 2 can be divided by 1, 2!\n",
      "Number 3 can be divided by 1, 3!\n",
      "Number 4 can be divided by 1, 2, 4!\n"
     ]
    }
   ],
   "source": [
    "# The output is again not very nice here, you can replace the last two lines by this for nicer output:\n",
    "myNumbers = range(1,5)\n",
    " \n",
    "for x in myNumbers:\n",
    "    dividers = []\n",
    "    for y in range(1,x+1):\n",
    "        if not (x % y):\n",
    "            dividers.append(y)\n",
    " \n",
    "    #for divider in dividers:\n",
    "    dividerList = \", \".join([str(divider) for divider in dividers])\n",
    "        \n",
    "    print (\"Number {} can be divided by {}!\".format(x,dividerList))"
   ]
  },
  {
   "cell_type": "markdown",
   "metadata": {},
   "source": [
    "## 6.3 While loop\n",
    "A **while** loop is dependent on a condition, as long as this condition is evaluated as `True` the loop will continue. This is an endless loop:\n",
    "FYI, if you execute this, you'll end up in an enternal loop. To break the loop, press stop button."
   ]
  },
  {
   "cell_type": "code",
   "execution_count": null,
   "metadata": {},
   "outputs": [],
   "source": [
    "while True:\n",
    "    print(\"Endless...\")"
   ]
  },
  {
   "cell_type": "markdown",
   "metadata": {},
   "source": [
    "While loops are more flexible than for loops, as you can make them end whenever necessary depending on code within the loop itself:\n",
    "\n"
   ]
  },
  {
   "cell_type": "code",
   "execution_count": 53,
   "metadata": {},
   "outputs": [
    {
     "name": "stdout",
     "output_type": "stream",
     "text": [
      "2 to the power 1 is 2\n",
      "2 to the power 2 is 4\n",
      "2 to the power 3 is 8\n",
      "2 to the power 4 is 16\n",
      "2 to the power 5 is 32\n",
      "2 to the power 6 is 64\n",
      "2 to the power 7 is 128\n",
      "2 to the power 8 is 256\n",
      "2 to the power 9 is 512\n",
      "2 to the power 10 is 1024\n"
     ]
    }
   ],
   "source": [
    "baseValue = 2\n",
    "powerValue = 1\n",
    "powerResult = 0\n",
    "while powerResult < 1000:\n",
    "    powerResult = baseValue ** powerValue\n",
    "    print(\"{} to the power {} is {}\".format(baseValue,powerValue,powerResult))\n",
    "    powerValue += 1 # Add one to itself - this kind of step is crucial in a while loop, or it will be endless!"
   ]
  },
  {
   "cell_type": "markdown",
   "metadata": {},
   "source": [
    "Note that the last value printed is greater than 1000, the while condition is only checked at the start of the loop. You can avoid this by *initialising* the loop and putting the calculation at the very end:\n"
   ]
  },
  {
   "cell_type": "code",
   "execution_count": 54,
   "metadata": {},
   "outputs": [
    {
     "name": "stdout",
     "output_type": "stream",
     "text": [
      "2 to the power 1 is 2\n",
      "2 to the power 2 is 4\n",
      "2 to the power 3 is 8\n",
      "2 to the power 4 is 16\n",
      "2 to the power 5 is 32\n",
      "2 to the power 6 is 64\n",
      "2 to the power 7 is 128\n",
      "2 to the power 8 is 256\n",
      "2 to the power 9 is 512\n"
     ]
    }
   ],
   "source": [
    "baseValue = 2\n",
    "powerValue = 1\n",
    "powerResult = 0\n",
    "powerResult = baseValue ** powerValue\n",
    "\n",
    "while powerResult < 1000:\n",
    "    print(\"{} to the power {} is {}\".format(baseValue,powerValue,powerResult))\n",
    "    powerValue += 1 # Add one to itself - this kind of step is crucial in a while loop, or it will be endless!\n",
    "    powerResult = baseValue ** powerValue"
   ]
  },
  {
   "cell_type": "markdown",
   "metadata": {},
   "source": [
    "---\n",
    "### 6.3.1 Exercise\n",
    "\n",
    "Try to reproduce a for-loop (the example of numbers divisible by 17) by using a while-loop.\n",
    "\n",
    "---"
   ]
  },
  {
   "cell_type": "code",
   "execution_count": 16,
   "metadata": {},
   "outputs": [
    {
     "name": "stdout",
     "output_type": "stream",
     "text": [
      "17 is divisible by 17\n",
      "34 is divisible by 17\n"
     ]
    }
   ],
   "source": [
    "# Try to reproduce a for-loop (the example of numbers divisible by 17) by using a while-loop.\n",
    "myNumber = 1\n",
    "myDivider = 17\n",
    "\n",
    "while myNumber <= 50:\n",
    "    if not (myNumber % myDivider): # Nothing left after division, so number is divisible.\n",
    "        print(\"{} is divisible by {}\".format(str(myNumber),str(myDivider)))\n",
    "    myNumber += 1"
   ]
  },
  {
   "cell_type": "markdown",
   "metadata": {},
   "source": [
    "---\n",
    "### 6.3.2 Exercise\n",
    "\n",
    "Write a program where you start with a list of numbers from 1 to 100, and you then remove every number from this list that can be divided by 3 or by 5. Print the result.  \n",
    "Tip: you have to make a copy of the original list here, otherwise Python will get 'confused' when you remove values from the list while it's looping over it. Use `[:]` for this purpose.  \n",
    "\n",
    "---"
   ]
  },
  {
   "cell_type": "code",
   "execution_count": 58,
   "metadata": {},
   "outputs": [
    {
     "name": "stdout",
     "output_type": "stream",
     "text": [
      "[1, 2, 4, 6, 7, 8, 10, 11, 13, 14, 16, 17, 19, 21, 22, 23, 25, 26, 28, 29, 31, 32, 34, 36, 37, 38, 40, 41, 43, 44, 46, 47, 49, 51, 52, 53, 55, 56, 58, 59, 61, 62, 64, 66, 67, 68, 70, 71, 73, 74, 76, 77, 79, 81, 82, 83, 85, 86, 88, 89, 91, 92, 94, 96, 97, 98, 100]\n"
     ]
    }
   ],
   "source": [
    "# Write a program where you start with a list of numbers from 1 to 100, and you then remove every number from this list that can be divided by 3 or by 5. Print the result.\n",
    "# Tip: you have to make a copy of the original list here, otherwise Python will get 'confused'\n",
    "# when you remove values from the list while it's looping over it\n",
    "\n",
    "myNumberList = list(range(1,101))\n",
    "\n",
    "for number in myNumberList[:]:  \n",
    "    if not (number % 3) or not (number % 5):\n",
    "        myNumberList.pop(myNumberList.index(number))\n",
    "\n",
    "print(myNumberList)"
   ]
  },
  {
   "cell_type": "markdown",
   "metadata": {},
   "source": [
    "---\n",
    "### 6.3.3 Exercise\n",
    "\n",
    "Write a program where you ask the user for an integer (whole number), and keep on asking if they give the wrong input. Check whether the number can be divided by 7, and print the result.\n",
    "\n",
    "---"
   ]
  },
  {
   "cell_type": "code",
   "execution_count": 61,
   "metadata": {},
   "outputs": [
    {
     "name": "stdout",
     "output_type": "stream",
     "text": [
      "Give a number:8\n",
      "Number not divisible by 7\n"
     ]
    }
   ],
   "source": [
    "# Write a program where you ask the user for an integer (whole number), and keep on asking if they give the wrong input. Check whether the number can be divided by 7, and print the result.\n",
    "myNumberList = range(1,101)\n",
    " \n",
    "# Keep on checking until you have a number, prime the while loop as well\n",
    "isNumber = False\n",
    "while not (isNumber):\n",
    "    inputString = input(\"Give a number:\")\n",
    "    if inputString.isdigit():\n",
    "        isNumber = True\n",
    "        number = int(inputString)\n",
    "    else:\n",
    "        print(\"Incorrect, not a whole number, try again.\")\n",
    "    if not (number % 7):\n",
    "        print(\"{} can be divided by 7!\".format(number))\n",
    "    else: \n",
    "        print(\"Number not divisible by 7\")"
   ]
  },
  {
   "cell_type": "markdown",
   "metadata": {},
   "source": [
    "## 6.4 Next session\n",
    "\n",
    "Go to our [next chapter](7_Homework_Day1.ipynb). "
   ]
  }
 ],
 "metadata": {
  "kernelspec": {
   "display_name": "Python 3",
   "language": "python",
   "name": "python3"
  },
  "language_info": {
   "codemirror_mode": {
    "name": "ipython",
    "version": 3
   },
   "file_extension": ".py",
   "mimetype": "text/x-python",
   "name": "python",
   "nbconvert_exporter": "python",
   "pygments_lexer": "ipython3",
   "version": "3.7.3"
  }
 },
 "nbformat": 4,
 "nbformat_minor": 2
}
