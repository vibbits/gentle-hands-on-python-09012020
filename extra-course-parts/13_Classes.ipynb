{
 "cells": [
  {
   "cell_type": "markdown",
   "metadata": {},
   "source": [
    "## 13. Classes\n",
    "*Combine building blocks*\n",
    "\n",
    "### 13.1 Introduction\n",
    "****\n",
    "The code we've been writing so far has been a sequential set of commands and functions where variables have to be passed around from function to function whenever required. Python is, however, inherently an *object-oriented* programming language. This means that you can create *objects* that are self-sustained building blocks of code or data which you can combine to form more complex programs.\n",
    "\n",
    "In fact we've been using objects all along; strings are objects, as are lists and dictionaries - the *methods* we've been using on them (for example *myList.sort()*) are part of these objects.\n",
    "\n",
    "The concept of objects is not very intuitive, but we'll give you a taste here so you can see how powerful it is in practice.\n",
    "\n",
    "### 13.2 Exercises\n",
    "****\n",
    "\n",
    "**Creating a class, the template for an object**\n",
    "\n",
    "First you have to create a template for your object; this determines what an object can do once you start to use it. This template is called a **class**. Consider this example:\n",
    "\n"
   ]
  },
  {
   "cell_type": "code",
   "execution_count": 1,
   "metadata": {},
   "outputs": [],
   "source": [
    "# Define the MyMathOperations class\n",
    "# Note that we start the class name with an uppercase letter to distinguish it from normal variables\n",
    "class MyMathClass:\n",
    " \n",
    "  def add(self,x,y):\n",
    " \n",
    "    print(x + y)\n",
    " \n",
    "  def subtract(self,x,y):\n",
    " \n",
    "    print(x - y)\n",
    " \n",
    "  def multiply(self,x,y):\n",
    " \n",
    "    print(x * y)"
   ]
  },
  {
   "cell_type": "markdown",
   "metadata": {},
   "source": [
    "So within a class you define the *methods* add(), substract() and multiply(). The argument list for each of these has to start with **self** - this means it belongs to this class, and can be called from it using the **.add()** syntax as we used for strings, lists and dictionaries.\n"
   ]
  },
  {
   "cell_type": "markdown",
   "metadata": {},
   "source": [
    "**Using an object**\n",
    "\n",
    "When you execute the above example, nothing happens. This is because the class is not *instantiated* to become a working *object*. It's very easy to do this and then use the class; add these lines to the above example:\n",
    "\n"
   ]
  },
  {
   "cell_type": "code",
   "execution_count": 2,
   "metadata": {},
   "outputs": [
    {
     "name": "stdout",
     "output_type": "stream",
     "text": [
      "8\n",
      "1\n",
      "27\n"
     ]
    }
   ],
   "source": [
    "if __name__ == '__main__':\n",
    "\n",
    "    # Instantiate the object from the class\n",
    "    myMathObject = MyMathClass()\n",
    "\n",
    "    myMathObject.add(3,5)\n",
    "    myMathObject.subtract(5,4)\n",
    "    myMathObject.multiply(9,3)"
   ]
  },
  {
   "cell_type": "markdown",
   "metadata": {},
   "source": [
    "One big immediate advantage of doing this is that you can group similar functions (methods) together, and only have to call up the class to be able to execute them (you don't have to import all of the functions separately).\n",
    "\n",
    "You can also connect variables to a class. You can do this when you instantiate (initialise) the class, or change/add new ones later on. Consider this modified example:"
   ]
  },
  {
   "cell_type": "code",
   "execution_count": 5,
   "metadata": {},
   "outputs": [
    {
     "name": "stdout",
     "output_type": "stream",
     "text": [
      "Numbers 3 and 5\n",
      "  Adding... 8\n",
      "  Subtracting... -2\n",
      "  Multiplying... 15\n",
      "Numbers 5 and 4\n",
      "  Adding... 9\n",
      "  Subtracting... 1\n",
      "  Multiplying... 20\n"
     ]
    }
   ],
   "source": [
    "class MyNewMathClass:\n",
    " \n",
    "    # This method is called when initialising the class\n",
    "    def __init__(self,x,y):\n",
    " \n",
    "        self.x = x\n",
    "        self.y = y\n",
    " \n",
    "    def add(self):\n",
    " \n",
    "        return self.x + self.y\n",
    " \n",
    "    def subtract(self):\n",
    " \n",
    "        return self.x - self.y\n",
    " \n",
    "    def multiply(self):\n",
    " \n",
    "        return self.x * self.y\n",
    " \n",
    "    def doSomeOperations(self):\n",
    " \n",
    "        print(\"Numbers {} and {}\".format(self.x,self.y))\n",
    "        print(\"  Adding...\", self.add())\n",
    "        print(\"  Subtracting...\", self.subtract())\n",
    "        print(\"  Multiplying...\", self.multiply())\n",
    "        print\n",
    "\n",
    "if __name__ == '__main__':\n",
    " \n",
    "    # Instantiate the object from the class\n",
    "    myMathObject = MyNewMathClass(3,5)\n",
    "\n",
    "    myMathObject.doSomeOperations()\n",
    "\n",
    "    myMathObject.x = 5\n",
    "    myMathObject.y = 4\n",
    "\n",
    "    myMathObject.doSomeOperations()"
   ]
  },
  {
   "cell_type": "markdown",
   "metadata": {},
   "source": [
    "**Exercise**\n",
    "\n",
    "Write your own class that takes two strings on startup. It should have a method to check which letters are shared between the two strings, and another method to check which are unique in each string. You should then write out this information. "
   ]
  },
  {
   "cell_type": "code",
   "execution_count": 6,
   "metadata": {},
   "outputs": [
    {
     "name": "stdout",
     "output_type": "stream",
     "text": [
      "Strings 'myWord' and 'otherWord'\n",
      "  Shared characters are W, o, r, d\n",
      "  Unique in string1 are m, y\n",
      "  Unique in string2 are t, h, e\n"
     ]
    }
   ],
   "source": [
    "class MyStringClass:\n",
    " \n",
    "    # This method is called when initialising the class\n",
    "    def __init__(self,string1,string2):\n",
    " \n",
    "        # This method is called when initialising the class\n",
    "        self.string1 = string1\n",
    "        self.string2 = string2\n",
    "\n",
    "        # Already make sets for comparisons later...\n",
    "        self.stringSet1 = set(string1)\n",
    "        self.stringSet2 = set(string2)  \n",
    "\n",
    "    def getSharedCharacters(self):\n",
    "        return self.stringSet1.intersection(self.stringSet2)\n",
    "\n",
    "    def getUniqueCharacters(self):\n",
    "        uniqueChars1 = self.stringSet1.difference(self.stringSet2)\n",
    "        uniqueChars2 = self.stringSet2.difference(self.stringSet1)\n",
    "        return (uniqueChars1,uniqueChars2)\n",
    "\n",
    "    def doCharacterCheck(self):\n",
    "        print (\"Strings '{}' and '{}'\".format(self.string1,self.string2))\n",
    "        print (\"  Shared characters are {}\".format(\", \".join(self.getSharedCharacters())))\n",
    " \n",
    "        (uniqueChars1,uniqueChars2) = self.getUniqueCharacters()\n",
    "        print (\"  Unique in string1 are {}\".format(\", \".join(uniqueChars1)))\n",
    "        print (\"  Unique in string2 are {}\".format(\", \".join(uniqueChars2)))\n",
    "        print\n",
    "        \n",
    "if __name__ == '__main__':\n",
    " \n",
    "    # Instantiate the object from the class\n",
    "    stringComparer = MyStringClass('myWord','otherWord')\n",
    "\n",
    "    stringComparer.doCharacterCheck()"
   ]
  },
  {
   "cell_type": "markdown",
   "metadata": {},
   "source": [
    "**Combining classes**\n",
    "\n",
    "The object-oriented way of programming becomes really powerful when you start to combine classes; in programming speak you can create a *subclass* that *inherits* the methods, variables, ... from one or several other classes (the *superclasses*). This way you can use classes as 'building blocks' to create more complex programs very quickly:\n",
    "\n"
   ]
  },
  {
   "cell_type": "code",
   "execution_count": 7,
   "metadata": {},
   "outputs": [
    {
     "name": "stdout",
     "output_type": "stream",
     "text": [
      "Please enter a string: abcdef\n",
      "Please enter a string: dcvare\n",
      "Shared characters between 'abcdef' and 'dcvare' are e, a, c, d\n"
     ]
    }
   ],
   "source": [
    "class MyInputClass:\n",
    " \n",
    "    def getUserInput(self,questionString):\n",
    "        userInput = None\n",
    "        while not userInput:\n",
    "            userInput = input(questionString)\n",
    "        return userInput\n",
    "\n",
    "    def getUserString(self):\n",
    "         return self.getUserInput(\"Please enter a string: \")\n",
    "\n",
    "class MyStringClass:\n",
    " \n",
    "    # This is a modified version of the class introduced earlier\n",
    "    def setStringsAndCreateStringSets(self,string1,string2):\n",
    " \n",
    "        self.string1 = string1\n",
    "        self.string2 = string2\n",
    " \n",
    "        # Already make sets for comparisons later...\n",
    "        self.stringSet1 = set(string1)\n",
    "        self.stringSet2 = set(string2)\n",
    " \n",
    "    def getSharedCharacters(self):\n",
    "        return self.stringSet1.intersection(self.stringSet2)\n",
    "\n",
    "class UserStringSharedCharacters(MyInputClass,MyStringClass):\n",
    "    def getSharedCharactersFromUserStrings(self):\n",
    " \n",
    "        string1 = self.getUserString()\n",
    "        string2 = self.getUserString()\n",
    " \n",
    "        self.setStringsAndCreateStringSets(string1,string2)\n",
    "        sharedCharacters = self.getSharedCharacters()\n",
    " \n",
    "        print (\"Shared characters between '{}' and '{}' are {}\".format(string1,string2,', '.join(sharedCharacters)))\n",
    "\n",
    "if __name__ == '__main__':\n",
    "    userStringSharedChars = UserStringSharedCharacters()\n",
    "    userStringSharedChars.getSharedCharactersFromUserStrings()"
   ]
  },
  {
   "cell_type": "markdown",
   "metadata": {},
   "source": [
    "**Exercise**\n",
    "\n",
    "Convert the program to read in the sample information from exercise 9. Make a class that contains a generic CSV file reader (the comma-separated format), then another one that deals specifically with the information in this particular file, and then prints out the IDs for value ranges in the same way. Everything should be done as classes."
   ]
  },
  {
   "cell_type": "code",
   "execution_count": 15,
   "metadata": {},
   "outputs": [
    {
     "name": "stdout",
     "output_type": "stream",
     "text": [
      "[3, 7, 10, 12, 16, 20]\n",
      "[3, 4, 5, 6, 9, 11, 17, 20]\n",
      "[8, 10, 14, 15]\n"
     ]
    }
   ],
   "source": [
    "import os\n",
    " \n",
    "class CsvFile:\n",
    " \n",
    "    def readCsvFile(self,fileName):\n",
    "        # Read in a .csv (comma-delimited) format file\n",
    "\n",
    "        # Doublecheck if file exists\n",
    "        if not os.path.exists(fileName):\n",
    "            print(\"File {} does not exist!\".format(fileName))\n",
    "            return None\n",
    "\n",
    "        # Open the file and read the information\n",
    "        fileHandle = open(fileName)\n",
    "        lines = fileHandle.readlines()\n",
    "        fileHandle.close()\n",
    "\n",
    "        # Now read the information. The first line has the header information which\n",
    "        # we are going to use to create the dictionary!\n",
    "\n",
    "        fileInfoDict = {}\n",
    "\n",
    "        fileInfoDict['headers'] = lines[0].strip().split(',')\n",
    "        fileInfoDict['data'] = []\n",
    "\n",
    "        # Now read in the information\n",
    "\n",
    "        for line in lines[1:]:\n",
    " \n",
    "            line = line.strip()  # Remove newline characters\n",
    "            cols = line.split(',')\n",
    " \n",
    "            fileInfoDict['data'].append(cols)\n",
    " \n",
    "        # Return the dictionary with the file information\n",
    "        return fileInfoDict\n",
    "\n",
    "class SampleInformationFile(CsvFile):\n",
    " \n",
    "    def readFile(self,fileName):\n",
    " \n",
    "        fileInfoDict = self.readCsvFile(fileName)\n",
    "\n",
    "        # Reorganise generic information from file in correct way..\n",
    "        self.sampleInformation = {}\n",
    "\n",
    "        for dataList in fileInfoDict['data']:\n",
    "            sampleId = int(dataList[0])\n",
    "            self.sampleInformation[sampleId] = {}\n",
    "\n",
    "            for i in range(1,len(fileInfoDict['headers'])):\n",
    "                valueName = fileInfoDict['headers'][i]\n",
    "                value = dataList[i]\n",
    "                if valueName in ('pH','temperature','volume'):\n",
    "                    value = float(value)\n",
    "                self.sampleInformation[sampleId][valueName] = value\n",
    "\n",
    "        # No need to return anything; the data is stored in self.sampleInformation, and this is accessible from anywhere in this object...\n",
    "\n",
    "    def getSampleIdsForValueRange(self,valueName,lowValue,highValue):\n",
    "\n",
    "        # Return the sample IDs that fit within the given value range for a kind of value\n",
    "        sampleIdList = self.sampleInformation.keys()\n",
    "        sampleIdList = sorted(sampleIdList)\n",
    "        sampleIdsFound = []\n",
    "        for sampleId in sampleIdList:\n",
    "\n",
    "            currentValue = self.sampleInformation[sampleId][valueName]\n",
    "            if lowValue <= currentValue <= highValue:\n",
    "                sampleIdsFound.append(sampleId)\n",
    "\n",
    "        return sampleIdsFound\n",
    "\n",
    "if __name__ == '__main__':\n",
    "    sampleInfoFile = SampleInformationFile()\n",
    "    sampleInfoFile.readFile(\"data/SampleInfo.txt\")\n",
    " \n",
    "    print(sampleInfoFile.getSampleIdsForValueRange('pH',6.0,7.0))\n",
    "    print(sampleInfoFile.getSampleIdsForValueRange('temperature',280,290))\n",
    "    print(sampleInfoFile.getSampleIdsForValueRange('volume',200,220))"
   ]
  },
  {
   "cell_type": "markdown",
   "metadata": {},
   "source": [
    "The end"
   ]
  },
  {
   "cell_type": "code",
   "execution_count": null,
   "metadata": {},
   "outputs": [],
   "source": []
  }
 ],
 "metadata": {
  "kernelspec": {
   "display_name": "Python 3",
   "language": "python",
   "name": "python3"
  },
  "language_info": {
   "codemirror_mode": {
    "name": "ipython",
    "version": 3
   },
   "file_extension": ".py",
   "mimetype": "text/x-python",
   "name": "python",
   "nbconvert_exporter": "python",
   "pygments_lexer": "ipython3",
   "version": "3.7.3"
  }
 },
 "nbformat": 4,
 "nbformat_minor": 2
}
