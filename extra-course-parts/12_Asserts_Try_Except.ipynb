{
 "cells": [
  {
   "cell_type": "markdown",
   "metadata": {},
   "source": [
    "## 12. Asserts & try/except\n",
    "*check, check, check*\n",
    "\n",
    "### 12.1 Introduction\n",
    "*****\n",
    "Your programs can and will crash. This can be because of logical errors in the code (which can be fixed), or because an unexpected value creeps into a variable from misguided user input or a file that has strange values in it (this you cannot fix).\n",
    "\n",
    "For the last category of problems, it is useful to doublecheck variables that you cannot fully control - sometimes you want to just warn the user that something strange is happening, sometimes you want to stop the code because you can't continue with this information. What is best depends on how user-friendly you want the program to be, and how much effort you can spare - it takes a lot of time to do this correctly.\n",
    "\n",
    "One very useful command to check values is **assert**, another that you can use to avoid running into errors is the **try: except:** combination, which we'll introduce here.\n",
    "\n",
    "### 12.2 Exercises\n",
    "****\n",
    "**Checking variables with assert**  \n",
    "\n",
    "The **assert** command will raise an error if its condition is not satisfied:"
   ]
  },
  {
   "cell_type": "code",
   "execution_count": 1,
   "metadata": {},
   "outputs": [
    {
     "ename": "AssertionError",
     "evalue": "Cannot divide by zero! Aborting code...",
     "output_type": "error",
     "traceback": [
      "\u001b[1;31m---------------------------------------------------------------------------\u001b[0m",
      "\u001b[1;31mAssertionError\u001b[0m                            Traceback (most recent call last)",
      "\u001b[1;32m<ipython-input-1-014d20059c47>\u001b[0m in \u001b[0;36m<module>\u001b[1;34m\u001b[0m\n\u001b[0;32m      2\u001b[0m \u001b[0mmyDivider\u001b[0m \u001b[1;33m=\u001b[0m \u001b[1;36m0\u001b[0m\u001b[1;33m\u001b[0m\u001b[1;33m\u001b[0m\u001b[0m\n\u001b[0;32m      3\u001b[0m \u001b[1;33m\u001b[0m\u001b[0m\n\u001b[1;32m----> 4\u001b[1;33m \u001b[1;32massert\u001b[0m \u001b[0mmyDivider\u001b[0m \u001b[1;33m!=\u001b[0m \u001b[1;36m0\u001b[0m\u001b[1;33m,\u001b[0m \u001b[1;34m\"Cannot divide by zero! Aborting code...\"\u001b[0m\u001b[1;33m\u001b[0m\u001b[1;33m\u001b[0m\u001b[0m\n\u001b[0m\u001b[0;32m      5\u001b[0m \u001b[1;33m\u001b[0m\u001b[0m\n\u001b[0;32m      6\u001b[0m \u001b[0mprint\u001b[0m\u001b[1;33m(\u001b[0m\u001b[1;34m\"Division is {:.2f}\"\u001b[0m\u001b[1;33m.\u001b[0m\u001b[0mformat\u001b[0m\u001b[1;33m(\u001b[0m\u001b[0mmyValue\u001b[0m \u001b[1;33m*\u001b[0m \u001b[1;36m1.0\u001b[0m \u001b[1;33m/\u001b[0m \u001b[0mmyDivider\u001b[0m\u001b[1;33m)\u001b[0m\u001b[1;33m)\u001b[0m\u001b[1;33m\u001b[0m\u001b[1;33m\u001b[0m\u001b[0m\n",
      "\u001b[1;31mAssertionError\u001b[0m: Cannot divide by zero! Aborting code..."
     ]
    }
   ],
   "source": [
    "myValue = 32\n",
    "myDivider = 0\n",
    " \n",
    "assert myDivider != 0, \"Cannot divide by zero! Aborting code...\"\n",
    " \n",
    "print(\"Division is {:.2f}\".format(myValue * 1.0 / myDivider))"
   ]
  },
  {
   "cell_type": "markdown",
   "metadata": {},
   "source": [
    "The more user-friendly (but more verbose way) would be something like this:"
   ]
  },
  {
   "cell_type": "code",
   "execution_count": 2,
   "metadata": {},
   "outputs": [
    {
     "name": "stdout",
     "output_type": "stream",
     "text": [
      "Warning: cannot divide by zero!\n"
     ]
    }
   ],
   "source": [
    "myValue = 32\n",
    "myDivider = 0\n",
    " \n",
    "if myDivider == 0:\n",
    "    print(\"Warning: cannot divide by zero!\")\n",
    "    myResult = None\n",
    "else:\n",
    "    myResult = myValue * 1.0 / myDivider\n",
    "    print (\"Division is {:.2f}\".format(myResult))\n",
    "\n",
    "# But can your program now continue if myResult is None?"
   ]
  },
  {
   "cell_type": "markdown",
   "metadata": {},
   "source": [
    "**Avoiding errors with try: except:**  \n",
    "\n",
    "Another thing you can use is the **try: except:** combination. Python will try to execute everything in the **try:** block, and if that doesn't work (there's an error) it will do whatever is in the **except:** block:\n",
    "\n"
   ]
  },
  {
   "cell_type": "code",
   "execution_count": 3,
   "metadata": {},
   "outputs": [
    {
     "name": "stdout",
     "output_type": "stream",
     "text": [
      "Cannot divide by zero!\n"
     ]
    }
   ],
   "source": [
    "myValue = 32\n",
    "myDivider = 0\n",
    " \n",
    "try:\n",
    "    print(myValue * 1.0 / myDivider)\n",
    "except:\n",
    "    print(\"Cannot divide by zero!\")"
   ]
  },
  {
   "cell_type": "markdown",
   "metadata": {},
   "source": [
    "### Exercise"
   ]
  },
  {
   "cell_type": "markdown",
   "metadata": {},
   "source": [
    "Write a small program where you ask the user for a positive whole number (a natural number). Make sure that the user gives you this kind of number, if not ask the question again. If you have the number, see if it's divisible by two and let the user know. "
   ]
  },
  {
   "cell_type": "code",
   "execution_count": 6,
   "metadata": {},
   "outputs": [
    {
     "name": "stdout",
     "output_type": "stream",
     "text": [
      "Please give a natural number: 2\n",
      "2 is divisible by two!\n"
     ]
    }
   ],
   "source": [
    "def getNumberFromUser():\n",
    " \n",
    "    number = None\n",
    "\n",
    "    while (number == None):\n",
    " \n",
    "        userString = input(\"Please give a natural number: \")\n",
    "\n",
    "        # Better style here would be to check the string with a regular expression,\n",
    "        # but this will work as well\n",
    "        try:\n",
    "            number = int(userString)\n",
    " \n",
    "            if number < 0:\n",
    "                print(\"  {} is negative... try again.\".format(number))\n",
    "                number = None\n",
    " \n",
    "        except:\n",
    "            print(\"  {} is not a natural number... try again.\".format(userString))\n",
    "            number = None\n",
    "\n",
    "        # Add new line for clarity of user interaction\n",
    "        print\n",
    " \n",
    "    return number\n",
    " \n",
    "if __name__ == '__main__':\n",
    " \n",
    "    number = getNumberFromUser()\n",
    " \n",
    "    # Check if divisible by two\n",
    "    if not number % 2:\n",
    "        print(\"{} is divisible by two!\".format(number))\n",
    "    else:\n",
    "        print(\"{} is not divisible by two!\".format(number))"
   ]
  },
  {
   "cell_type": "code",
   "execution_count": null,
   "metadata": {},
   "outputs": [],
   "source": []
  }
 ],
 "metadata": {
  "kernelspec": {
   "display_name": "Python 3",
   "language": "python",
   "name": "python3"
  },
  "language_info": {
   "codemirror_mode": {
    "name": "ipython",
    "version": 3
   },
   "file_extension": ".py",
   "mimetype": "text/x-python",
   "name": "python",
   "nbconvert_exporter": "python",
   "pygments_lexer": "ipython3",
   "version": "3.7.3"
  }
 },
 "nbformat": 4,
 "nbformat_minor": 2
}
