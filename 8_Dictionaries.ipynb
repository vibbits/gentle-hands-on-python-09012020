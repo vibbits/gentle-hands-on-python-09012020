{
 "cells": [
  {
   "cell_type": "markdown",
   "metadata": {},
   "source": [
    "# 8. Dictionaries\n",
    "*Set relation between x and y*\n",
    "\n",
    "## 8.1 Introduction\n",
    "\n",
    "So far we've seen variables that store one value or a series of values (see [section 5](5_Lists_Tuples_Sets.ipynb): lists, tuples and sets). There is another way of storing information where you associate one variable with another; in Python this is called a dictionary. Dictionaries provide a very useful way of quickly connecting variables to each other.\n",
    "\n",
    "\n",
    "\n",
    "## 8.2 Dictionary creation & usage\n",
    "\n",
    "It is best to think of a dictionary as a set of *key:value* pairs, with the requirement that the keys are unique (within one dictionary). Dictionaries are initiated by using curly brackets {}, placing a comma-separated list of *key:value* pairs adds initial *key:value* pairs to the dictionary.\n",
    "\n",
    "You can then recall or add values by using square brackets [ ]. You can also use the `get()`-method. \n"
   ]
  },
  {
   "cell_type": "code",
   "execution_count": null,
   "metadata": {},
   "outputs": [],
   "source": [
    "myDictionary = {'A': 'Ala', 'C': 'Cys', 'D': 'Asp'}\n",
    "oneLetterCode = 'A'\n",
    " \n",
    "print(oneLetterCode, myDictionary[oneLetterCode])\n",
    " \n",
    "myDictionary['E'] = 'Glu'\n",
    "print(myDictionary)\n",
    "print(myDictionary.get('C'))"
   ]
  },
  {
   "cell_type": "markdown",
   "metadata": {},
   "source": [
    "The reference value is called a dictionary *key*, which refers to a *value*. Dictionaries, like lists, have several useful built-in methods. The most frequently used are listed here below:\n",
    "- `keys()`\tto list the dictionary's keys\n",
    "- `values()` to list the values in the dictionary\n",
    "- `get()`\tcall the value of a specified key\n",
    "- `pop()`\tto remove the specified key and its values"
   ]
  },
  {
   "cell_type": "code",
   "execution_count": null,
   "metadata": {},
   "outputs": [],
   "source": [
    "myDictionary = {'A': 'Ala', 'C': 'Cys', 'D': 'Asp', 'E': 'Glu'}\n",
    " \n",
    "print(list(myDictionary.keys()))\n",
    "print(list(myDictionary.values()))\n",
    "\n",
    "print(myDictionary.get('C'))\n",
    "\n",
    "myDictionary.pop('E')\n",
    "print(myDictionary)"
   ]
  },
  {
   "cell_type": "markdown",
   "metadata": {},
   "source": [
    "If you try to access a key that doesn't exist, Python will give an error:"
   ]
  },
  {
   "cell_type": "code",
   "execution_count": null,
   "metadata": {},
   "outputs": [],
   "source": [
    "myDictionary = {'A': 'Ala', 'C': 'Cys', 'D': 'Asp', 'E': 'Glu'}\n",
    " \n",
    "print(myDictionary['B'])"
   ]
  },
  {
   "cell_type": "markdown",
   "metadata": {},
   "source": [
    "You should therefore always check whether a key exists:\n"
   ]
  },
  {
   "cell_type": "code",
   "execution_count": null,
   "metadata": {},
   "outputs": [],
   "source": [
    "# Newlines don't matter when initialising a dictionary...\n",
    "myDictionary = {\n",
    "     'A': 'Ala',\n",
    "     'C': 'Cys',\n",
    "     'D': 'Asp',\n",
    "     'E': 'Glu',\n",
    "     'F': 'Phe',\n",
    "     'G': 'Gly',\n",
    "     'H': 'His',\n",
    "     'I': 'Ile',\n",
    "     'K': 'Lys',\n",
    "     'L': 'Leu',\n",
    "     'M': 'Met',\n",
    "     'N': 'Asn',\n",
    "     'P': 'Pro',\n",
    "     'Q': 'Gln',\n",
    "     'R': 'Arg',\n",
    "     'S': 'Ser',\n",
    "     'T': 'Thr',\n",
    "     'V': 'Val',\n",
    "     'W': 'Trp',\n",
    "     'Y': 'Tyr'}\n",
    "\n",
    "if 'B' in myDictionary.keys():\n",
    "    print(myDictionary['B'])\n",
    "else:\n",
    "    print(\"myDictionary doesn't have key 'B'!\")"
   ]
  },
  {
   "cell_type": "markdown",
   "metadata": {},
   "source": [
    "---\n",
    "### 8.2.1 Exercise\n",
    "\n",
    "Use a dictionary to track how many times each amino acid code appears in the following sequence:\n",
    "```\n",
    "SFTMHGTPVVNQVKVLTESNRISHHKILAIVGTAESNSEHPLGTAITKYCKQELDTETLGTCIDFQVVPGCGISCKVTNIEGLLHKNNWNIED  \n",
    "NNIKNASLVQIDASNEQSSTSSSMIIDAQISNALNAQQYKVLIGNREWMIRNGLVINNDVNDFMTEHERKGRTAVLVAVDDELCGLIAIADT\n",
    "```\n",
    "Tip: use the one-letter code as key in the dictionary, and the count as value.\n",
    "\n",
    "---"
   ]
  },
  {
   "cell_type": "code",
   "execution_count": null,
   "metadata": {},
   "outputs": [],
   "source": [
    "# Use a dictionary to track how many times each amino acid code appears in the following sequence:\n",
    "# SFTMHGTPVVNQVKVLTESNRISHHKILAIVGTAESNSEHPLGTAITKYCKQELDTETLGTCIDFQVVPGCGISCKVTNIEGLLHKNNWNIEDNNIKNASLVQIDASNEQSSTSSSMIIDAQISNALNAQQYKVLIGNREWMIRNGLVINNDVNDFMTEHERKGRTAVLVAVDDELCGLIAIADT\n",
    "# Tip: use the one-letter code as key in the dictionary, and the count as value. \n",
    "mySequence = \"SFTMHGTPVVNQVKVLTESNRISHHKILAIVGTAESNSEHPLGTAITKYCKQELDTETLGTCIDFQVVPGCGISCKVTNIEGLLHKNNWNIEDNNIKNASLVQIDASNEQSSTSSSMIIDAQISNALNAQQYKVLIGNREWMIRNGLVINNDVNDFMTEHERKGRTAVLVAVDDELCGLIAIADT\"\n",
    " \n",
    "# First way to do this, using sets (condensed)\n",
    "aminoAcidCount = {}\n",
    "myUniqueAminoAcids = set(mySequence)\n",
    "for aaCode in myUniqueAminoAcids:\n",
    "    print(\"Amino acid {} occurs {} times.\".format(aaCode,mySequence.count(aaCode)))\n",
    "    aminoAcidCount[aaCode] = mySequence.count(aaCode)"
   ]
  },
  {
   "cell_type": "code",
   "execution_count": null,
   "metadata": {},
   "outputs": [],
   "source": [
    "# Another way to do this, a little bit more elaborate and using the myDictionary as a reference for iteration\n",
    "\n",
    "myDictionary = {\n",
    "     'A': 'Ala',\n",
    "     'C': 'Cys',\n",
    "     'D': 'Asp',\n",
    "     'E': 'Glu',\n",
    "     'F': 'Phe',\n",
    "     'G': 'Gly',\n",
    "     'H': 'His',\n",
    "     'I': 'Ile',\n",
    "     'K': 'Lys',\n",
    "     'L': 'Leu',\n",
    "     'M': 'Met',\n",
    "     'N': 'Asn',\n",
    "     'P': 'Pro',\n",
    "     'Q': 'Gln',\n",
    "     'R': 'Arg',\n",
    "     'S': 'Ser',\n",
    "     'T': 'Thr',\n",
    "     'V': 'Val',\n",
    "     'W': 'Trp',\n",
    "     'Y': 'Tyr'}\n",
    "\n",
    "lengthDict = len(myDictionary.keys())\n",
    "for aa in range(lengthDict):\n",
    "    aaCode = list(myDictionary.keys())[aa]\n",
    "    aaCount = mySequence.count(aaCode)\n",
    "    print(\"Amino acid {} occurs {} times.\".format(aaCode,aaCount))"
   ]
  },
  {
   "cell_type": "markdown",
   "metadata": {},
   "source": [
    "## 8.3 More with dictionaries\n",
    "You can also make a dictionary refer to lists, or other dictionaries:"
   ]
  },
  {
   "cell_type": "code",
   "execution_count": null,
   "metadata": {
    "scrolled": true
   },
   "outputs": [],
   "source": [
    "# Create a dictionary with a list of names and a number-based dictionary\n",
    "# with an identification number referring to information about a person \n",
    "mainDict = {}\n",
    "mainDict['myNames'] = ['Jack','Joe','Anne','Julia','Dennis','Yuri','Mel']\n",
    "# Dictionaries can be nested: key within key\n",
    "mainDict['myIds'] = {5343:  ('Male',  'Jack', 34),\n",
    "                     3432:  ('Female','Anne', 25),\n",
    "                     7345:  ('Male',  'Yuri', 53)}\n",
    " \n",
    "# Loop over the values in myList in the dictionary\n",
    "for name in mainDict['myNames']:\n",
    "\n",
    "    # Check whether we find this name in the myIds dictionary\n",
    "    nameFound = False\n",
    "\n",
    "    # Loop over all the information for the id numbers,\n",
    "    # and check whether the name matches\n",
    "    for idNumber in mainDict['myIds'].keys():\n",
    "        # Get the information out - take care here to not use \n",
    "        # the variable 'name' again or we will overwrite the original value!\n",
    "        (gender,nameInDict,age) = mainDict['myIds'][idNumber]\n",
    " \n",
    "        # Check whether the names match\n",
    "        if name == nameInDict:\n",
    "            print (\"{} has ID number {}\".format(name,idNumber))\n",
    "            nameFound = True\n",
    "            break\n",
    " \n",
    "    # If no match was found, print out that this person has no ID number\n",
    "    if not nameFound:\n",
    "        print (\"No ID number found for {}\".format(name))"
   ]
  },
  {
   "cell_type": "markdown",
   "metadata": {},
   "source": [
    "You can, however, only use variables that cannot change keys (so tuples are OK, lists are not), and keys have to be unique: if you add a key that already exists, the old entry will be overwritten:"
   ]
  },
  {
   "cell_type": "code",
   "execution_count": null,
   "metadata": {},
   "outputs": [],
   "source": [
    "mySample = {'pH': 5.6, 'temperature': 288.0, 'volume': 200, 'name': 'calibration_1'}\n",
    "  \n",
    "print(mySample['pH'])\n",
    "\n",
    "mySample['pH'] = 7.0\n",
    "print(mySample['pH'])\n",
    "\n",
    "# This is fine\n",
    "moleculeKey = ('protein','mySmallPeptide') # tuple\n",
    "mySample[moleculeKey] = 'ASKLPIITREWSDDN'\n",
    "print(mySample)\n",
    "\n",
    "# This will fail...\n",
    "otherMoleculeKey = ['DNA','myDna'] # list\n",
    "mySample[otherMoleculeKey] = 'TGCATTGCCA'"
   ]
  },
  {
   "cell_type": "markdown",
   "metadata": {},
   "source": [
    "## 8.4 Next session\n",
    "\n",
    "Go to our [next chapter](9_Files.ipynb)."
   ]
  }
 ],
 "metadata": {
  "kernelspec": {
   "display_name": "Python 3",
   "language": "python",
   "name": "python3"
  },
  "language_info": {
   "codemirror_mode": {
    "name": "ipython",
    "version": 3
   },
   "file_extension": ".py",
   "mimetype": "text/x-python",
   "name": "python",
   "nbconvert_exporter": "python",
   "pygments_lexer": "ipython3",
   "version": "3.7.3"
  }
 },
 "nbformat": 4,
 "nbformat_minor": 2
}
